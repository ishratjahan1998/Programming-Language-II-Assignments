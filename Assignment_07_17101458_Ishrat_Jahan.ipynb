{
  "nbformat": 4,
  "nbformat_minor": 0,
  "metadata": {
    "colab": {
      "provenance": []
    },
    "kernelspec": {
      "name": "python3",
      "display_name": "Python 3"
    }
  },
  "cells": [
    {
      "cell_type": "markdown",
      "metadata": {
        "id": "ceb74bLp_2sM"
      },
      "source": [
        "# Task 1"
      ]
    },
    {
      "cell_type": "code",
      "metadata": {
        "colab": {
          "base_uri": "https://localhost:8080/"
        },
        "id": "PMWO2Qfy78Qu",
        "outputId": "460f2fe5-1cb5-4d85-c844-353d6e810c57"
      },
      "source": [
        "class Student:\n",
        "  def __init__(self, name='Just a student', dept='nothing'):\n",
        "    self.__name = name\n",
        "    self.__department = dept\n",
        "  def set_department(self, dept):\n",
        "    self.__department = dept\n",
        "  def get_name(self):\n",
        "    return self.__name\n",
        "  def set_name(self,name):\n",
        "    self.__name = name\n",
        "  def __str__(self):\n",
        "    return 'Name: '+self.__name+' Department: '+self.__department\n",
        "\n",
        "class BBA_Student(Student):\n",
        "  def __init__(self, name='default'):\n",
        "    super().__init__(name=name, dept='BBA')\n",
        "\n",
        "print(BBA_Student())\n",
        "print(BBA_Student('Humpty Dumpty'))\n",
        "print(BBA_Student('Little Bo Peep'))"
      ],
      "execution_count": null,
      "outputs": [
        {
          "output_type": "stream",
          "text": [
            "Name: default Department: BBA\n",
            "Name: Humpty Dumpty Department: BBA\n",
            "Name: Little Bo Peep Department: BBA\n"
          ],
          "name": "stdout"
        }
      ]
    },
    {
      "cell_type": "markdown",
      "metadata": {
        "id": "Yi7b9ssIEzgM"
      },
      "source": [
        "# Task 2"
      ]
    },
    {
      "cell_type": "code",
      "metadata": {
        "colab": {
          "base_uri": "https://localhost:8080/"
        },
        "id": "HmJHP2nICbn9",
        "outputId": "91f1cc56-79ae-41d4-e611-b18263ac626d"
      },
      "source": [
        "class Vehicle:\n",
        "  def __init__(self):\n",
        "    self.x = 0\n",
        "    self.y = 0\n",
        "  def moveUp(self):\n",
        "    self.y+=1\n",
        "  def moveDown(self):\n",
        "    self.y-=1\n",
        "  def moveRight(self):\n",
        "    self.x+=1\n",
        "  def moveLeft(self):\n",
        "    self.x-=1\n",
        "  def __str__(self):\n",
        "    return '('+str(self.x)+' , '+str(self.y)+')'\n",
        "\n",
        "class Vehicle2010(Vehicle):\n",
        "  def __init__(self):\n",
        "    super().__init__()\n",
        "\n",
        "  def moveUpperRight(self):\n",
        "    super().moveUp()\n",
        "    super().moveRight()\n",
        "\n",
        "  def moveUpperLeft(self):\n",
        "    super().moveUp()\n",
        "    super().moveLeft()\n",
        "\n",
        "  def moveLowerRight(self):\n",
        "    super().moveDown()\n",
        "    super().moveRight()\n",
        "\n",
        "  def moveLowerLeft(self):\n",
        "    super().moveDown()\n",
        "    super().moveLeft()\n",
        "\n",
        "  def equals(self, v):\n",
        "    return v.x == self.x and v.y == self.y\n",
        "\n",
        "print('Part 1')\n",
        "print('------')\n",
        "car = Vehicle()\n",
        "print(car)\n",
        "car.moveUp()\n",
        "print(car)\n",
        "car.moveLeft()\n",
        "print(car)\n",
        "car.moveDown()\n",
        "print(car)\n",
        "car.moveRight()\n",
        "print(car)\n",
        "print('------')\n",
        "print('Part 2')\n",
        "print('------')\n",
        "car1 = Vehicle2010()\n",
        "print(car1)\n",
        "car1.moveLowerLeft()\n",
        "print(car1)\n",
        "car2 = Vehicle2010()\n",
        "car2.moveLeft()\n",
        "print(car1.equals(car2))\n",
        "car2.moveDown()\n",
        "print(car1.equals(car2))"
      ],
      "execution_count": null,
      "outputs": [
        {
          "output_type": "stream",
          "text": [
            "Part 1\n",
            "------\n",
            "(0 , 0)\n",
            "(0 , 1)\n",
            "(-1 , 1)\n",
            "(-1 , 0)\n",
            "(0 , 0)\n",
            "------\n",
            "Part 2\n",
            "------\n",
            "(0 , 0)\n",
            "(-1 , -1)\n",
            "False\n",
            "True\n"
          ],
          "name": "stdout"
        }
      ]
    },
    {
      "cell_type": "markdown",
      "metadata": {
        "id": "2pOBZe3KE1Md"
      },
      "source": [
        "# Task 3"
      ]
    },
    {
      "cell_type": "code",
      "metadata": {
        "colab": {
          "base_uri": "https://localhost:8080/"
        },
        "id": "NZQiS3o6E2RM",
        "outputId": "72948826-ada0-4e86-ae1b-c17a86504875"
      },
      "source": [
        "class Tournament:\n",
        "  def __init__(self,name='Default'):\n",
        "    self.__name = name\n",
        "  def set_name(self,name):\n",
        "    self.__name = name\n",
        "  def get_name(self):\n",
        "    return self.__name\n",
        "\n",
        "class Cricket_Tournament(Tournament):\n",
        "  def __init__(self, name='Default', num_of_teams=0, t='No type'):\n",
        "    super().__init__(name)\n",
        "    self.num_of_teams = num_of_teams\n",
        "    self.t = t\n",
        "\n",
        "  def detail(self):\n",
        "    return 'Cricket Tournament Name: ' + super().get_name() + '\\nNumber of Teams: ' + str(self.num_of_teams) + '\\nType: ' + self.t\n",
        "\n",
        "class Tennis_Tournament(Tournament):\n",
        "  def __init__(self, name='Default', num_of_players=0):\n",
        "    super().__init__(name)\n",
        "    self.num_of_players = num_of_players\n",
        "\n",
        "  def detail(self):\n",
        "    return 'Tennis Tournament Name: ' + super().get_name() + '\\nNumber of Players: ' + str(self.num_of_players)\n",
        "\n",
        "\n",
        "ct1 = Cricket_Tournament()\n",
        "print(ct1.detail())\n",
        "print(\"-----------------------\")\n",
        "ct2 = Cricket_Tournament(\"IPL\",10,\"t20\")\n",
        "print(ct2.detail())\n",
        "print(\"-----------------------\")\n",
        "tt = Tennis_Tournament(\"Roland Garros\",128)\n",
        "print(tt.detail())\n",
        "\n"
      ],
      "execution_count": null,
      "outputs": [
        {
          "output_type": "stream",
          "text": [
            "Cricket Tournament Name: Default\n",
            "Number of Teams: 0\n",
            "Type: No type\n",
            "-----------------------\n",
            "Cricket Tournament Name: IPL\n",
            "Number of Teams: 10\n",
            "Type: t20\n",
            "-----------------------\n",
            "Tennis Tournament Name: Roland Garros\n",
            "Number of Players: 128\n"
          ],
          "name": "stdout"
        }
      ]
    },
    {
      "cell_type": "markdown",
      "metadata": {
        "id": "lcBAFnUEIYIO"
      },
      "source": [
        "# Task 4"
      ]
    },
    {
      "cell_type": "code",
      "metadata": {
        "colab": {
          "base_uri": "https://localhost:8080/"
        },
        "id": "BoU1ZYbcIf6d",
        "outputId": "d4d35493-9179-47d0-b776-3262a8fd1da0"
      },
      "source": [
        "class Product:\n",
        "  def __init__(self,id, title, price):\n",
        "    self.__id = id\n",
        "    self. __title = title\n",
        "    self. __price = price\n",
        "  def get_id_title_price(self):\n",
        "    return \"ID: \"+str(self.__id)+\" Title: \"+self.__title+\" Price: \"+str(self.__price)\n",
        "\n",
        "class Book(Product):\n",
        "  def __init__(self, id, title, price, ISBN, pub):\n",
        "    super().__init__(id, title, price)\n",
        "    self.ISBN = ISBN\n",
        "    self.pub = pub\n",
        "\n",
        "  def printDetail(self):\n",
        "    return super().get_id_title_price() + ' ISBN: ' + self.ISBN + ' Publisher: ' + self.pub\n",
        "\n",
        "class CD(Product):\n",
        "  def __init__(self, id, title, price, band, duration, genre):\n",
        "    super().__init__(id, title, price)\n",
        "    self.band = band\n",
        "    self.duration = duration\n",
        "    self.genre = genre\n",
        "\n",
        "  def printDetail(self):\n",
        "    return super().get_id_title_price() + ' Band: ' + self.band + ' Duration: ' + str(self.duration) + ' Genre: ' + self.genre\n",
        "\n",
        "book = Book(1,\"The Alchemist\",500,\"97806\",\"HarperCollins\")\n",
        "print(book.printDetail())\n",
        "print(\"-----------------------\")\n",
        "cd = CD(2,\"Shotto\",300,\"Warfaze\",50,\"Hard Rock\")\n",
        "print(cd.printDetail())"
      ],
      "execution_count": null,
      "outputs": [
        {
          "output_type": "stream",
          "text": [
            "ID: 1 Title: The Alchemist Price: 500 ISBN: 97806 Publisher: HarperCollins\n",
            "-----------------------\n",
            "ID: 2 Title: Shotto Price: 300 Band: Warfaze Duration: 50 Genre: Hard Rock\n"
          ],
          "name": "stdout"
        }
      ]
    },
    {
      "cell_type": "markdown",
      "metadata": {
        "id": "Cj816LIrLCn4"
      },
      "source": [
        "# Task 5"
      ]
    },
    {
      "cell_type": "code",
      "metadata": {
        "colab": {
          "base_uri": "https://localhost:8080/"
        },
        "id": "QFhgMCGhLFTl",
        "outputId": "0f85326d-f896-4f7b-86eb-76b0044e6bfd"
      },
      "source": [
        "class Animal:\n",
        "  def __init__(self,sound):\n",
        "    self.__sound = sound\n",
        "  def makeSound(self):\n",
        "    return self.__sound\n",
        "\n",
        "class Printer:\n",
        "  def printSound(self, a):\n",
        "    print(a.makeSound())\n",
        "\n",
        "class Dog(Animal):\n",
        "  def __init__(self, sound):\n",
        "    super().__init__(sound)\n",
        "\n",
        "class Cat(Animal):\n",
        "  def __init__(self, sound):\n",
        "    super().__init__(sound)\n",
        "\n",
        "d1 = Dog('bark')\n",
        "c1 = Cat('meow')\n",
        "a1 = Animal('Animal does not make sound')\n",
        "pr = Printer()\n",
        "pr.printSound(a1)\n",
        "pr.printSound(c1)\n",
        "pr.printSound(d1)"
      ],
      "execution_count": null,
      "outputs": [
        {
          "output_type": "stream",
          "text": [
            "Animal does not make sound\n",
            "meow\n",
            "bark\n"
          ],
          "name": "stdout"
        }
      ]
    },
    {
      "cell_type": "markdown",
      "metadata": {
        "id": "wofMdf8ZMiZr"
      },
      "source": [
        "# Task 6"
      ]
    },
    {
      "cell_type": "code",
      "metadata": {
        "colab": {
          "base_uri": "https://localhost:8080/"
        },
        "id": "cWDc9laOMkHx",
        "outputId": "f9b0d811-a8f6-45ec-c607-9804c2b267a1"
      },
      "source": [
        "class Shape:\n",
        "  def __init__(self, name='Default', height=0, base=0):\n",
        "    self.area = 0\n",
        "    self.name = name\n",
        "    self.height = height\n",
        "    self.base = base\n",
        "  def get_height_base(self):\n",
        "    return \"Height: \"+str(self.height)+\", Base: \"+str(self.base)\n",
        "\n",
        "class triangle(Shape):\n",
        "  def __init__(self, name='Default', height=0, base=0):\n",
        "    super().__init__(name, height, base)\n",
        "\n",
        "  def calcArea(self):\n",
        "    return 0.5*self.height*self.base\n",
        "\n",
        "  def printDetail(self):\n",
        "    return 'Shape name: ' + self.name + '\\n' + self.get_height_base() +  '\\nArea: ' + str(self.calcArea())\n",
        "\n",
        "class trapezoid(Shape):\n",
        "  def __init__(self, name='Default', height=0, base=0, side_a=0):\n",
        "    super().__init__(name, height, base)\n",
        "    self.side_a = side_a\n",
        "\n",
        "  def calcArea(self):\n",
        "    return 0.5*self.height*(self.base + self.side_a)\n",
        "\n",
        "  def printDetail(self):\n",
        "    return 'Shape name: ' + self.name + '\\n' + self.get_height_base() +  ', Side_A: ' + str(self.side_a) + '\\nArea: ' + str(self.calcArea())\n",
        "\n",
        "tri_default = triangle()\n",
        "tri_default.calcArea()\n",
        "print(tri_default.printDetail())\n",
        "print('--------------------------')\n",
        "tri = triangle('Triangle', 10, 5)\n",
        "tri.calcArea()\n",
        "print(tri.printDetail())\n",
        "print('---------------------------')\n",
        "trap = trapezoid('Trapezoid', 10, 6, 4)\n",
        "trap.calcArea()\n",
        "print(trap.printDetail())"
      ],
      "execution_count": null,
      "outputs": [
        {
          "output_type": "stream",
          "text": [
            "Shape name: Default\n",
            "Height: 0, Base: 0\n",
            "Area: 0.0\n",
            "--------------------------\n",
            "Shape name: Triangle\n",
            "Height: 10, Base: 5\n",
            "Area: 25.0\n",
            "---------------------------\n",
            "Shape name: Trapezoid\n",
            "Height: 10, Base: 6, Side_A: 4\n",
            "Area: 50.0\n"
          ],
          "name": "stdout"
        }
      ]
    },
    {
      "cell_type": "markdown",
      "metadata": {
        "id": "zSqnoMw2OgG4"
      },
      "source": [
        "# Task 7"
      ]
    },
    {
      "cell_type": "code",
      "metadata": {
        "colab": {
          "base_uri": "https://localhost:8080/"
        },
        "id": "I6T0HWFJOhfu",
        "outputId": "4b669e85-a1f6-40df-c3ec-044ea8f61c36"
      },
      "source": [
        "class Football:\n",
        "  def __init__(self, team_name, name, role):\n",
        "    self.__team = team_name\n",
        "    self.__name = name\n",
        "    self.role = role\n",
        "    self.earning_per_match = 0\n",
        "  def get_name_team(self):\n",
        "    return 'Name: '+self.__name+', Team Name: ' +self.__team\n",
        "\n",
        "\n",
        "class Player(Football):\n",
        "  def __init__(self, team_name, name, role, goals, played):\n",
        "    super().__init__(team_name, name, role)\n",
        "    self.goals = goals\n",
        "    self.played = played\n",
        "    self.earning_per_match = goals*1000 + played*10\n",
        "\n",
        "  def calculate_ratio(self):\n",
        "    return self.goals/self.played\n",
        "\n",
        "  def print_details(self):\n",
        "    print(self.get_name_team())\n",
        "    print('Team Role: ' + self.role)\n",
        "    print('Total Goal: ' + str(self.goals) + ', Total Played: ' + str(self.played))\n",
        "    print('Goal Ratio:', self.calculate_ratio())\n",
        "    print('Match Earning:', str(self.earning_per_match) + 'K')\n",
        "\n",
        "class Manager(Football):\n",
        "  def __init__(self, team_name, name, role, wins):\n",
        "    super().__init__(team_name, name, role)\n",
        "    self.wins = wins\n",
        "    self.earning_per_match = wins*1000\n",
        "\n",
        "  def print_details(self):\n",
        "    print(self.get_name_team())\n",
        "    print('Team Role: ' + self.role)\n",
        "    print('Total Win:', self.wins)\n",
        "    print('Match Earning:', str(self.earning_per_match) + 'K')\n",
        "\n",
        "player_one = Player('Juventus', 'Ronaldo', 'Striker', 25, 32)\n",
        "player_one.calculate_ratio()\n",
        "player_one.print_details()\n",
        "\n",
        "\n",
        "print('------------------------------------------')\n",
        "manager_one = Manager('Real Madrid', 'Zidane', 'Manager', 25)\n",
        "manager_one.print_details()"
      ],
      "execution_count": null,
      "outputs": [
        {
          "output_type": "stream",
          "text": [
            "Name: Ronaldo, Team Name: Juventus\n",
            "Team Role: Striker\n",
            "Total Goal: 25, Total Played: 32\n",
            "Goal Ratio: 0.78125\n",
            "Match Earning: 25320K\n",
            "------------------------------------------\n",
            "Name: Zidane, Team Name: Real Madrid\n",
            "Team Role: Manager\n",
            "Total Win: 25\n",
            "Match Earning: 25000K\n"
          ],
          "name": "stdout"
        }
      ]
    }
  ]
}
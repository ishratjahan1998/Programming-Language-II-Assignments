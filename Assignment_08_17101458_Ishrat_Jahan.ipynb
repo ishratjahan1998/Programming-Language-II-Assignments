{
  "nbformat": 4,
  "nbformat_minor": 0,
  "metadata": {
    "colab": {
      "provenance": []
    },
    "kernelspec": {
      "name": "python3",
      "display_name": "Python 3"
    }
  },
  "cells": [
    {
      "cell_type": "markdown",
      "metadata": {
        "id": "twcp4ZlGlQzp"
      },
      "source": [
        "#Task - 1"
      ]
    },
    {
      "cell_type": "code",
      "metadata": {
        "colab": {
          "base_uri": "https://localhost:8080/"
        },
        "id": "SBLy5YlRaKTl",
        "outputId": "662c24ed-12b2-4f15-f3ad-53ee41749bec"
      },
      "source": [
        "class RealNumber:\n",
        "  def __init__(self, r=0):\n",
        "    self.__realValue = r\n",
        "\n",
        "  def getRealValue(self):\n",
        "    return self.__realValue\n",
        "\n",
        "  def setRealValue(self, r):\n",
        "    self.__realValue = r\n",
        "\n",
        "  def __str__(self):\n",
        "    return 'RealPart: '+str(self.getRealValue())\n",
        "\n",
        "class ComplexNumber(RealNumber):\n",
        "  def __init__(self, r=1, i=1):\n",
        "    super().__init__(float(r))\n",
        "    self.imaginaryValue = float(i)\n",
        "\n",
        "  def __str__(self):\n",
        "    return 'RealPart: '+str(self.getRealValue()) + '\\n' + 'ImaginaryPart: '+str(self.imaginaryValue)\n",
        "\n",
        "\n",
        "cn1 = ComplexNumber()\n",
        "print(cn1)\n",
        "print('---------')\n",
        "cn2 = ComplexNumber(5,7)\n",
        "print(cn2)"
      ],
      "execution_count": null,
      "outputs": [
        {
          "output_type": "stream",
          "text": [
            "RealPart: 1.0\n",
            "ImaginaryPart: 1.0\n",
            "---------\n",
            "RealPart: 5.0\n",
            "ImaginaryPart: 7.0\n"
          ],
          "name": "stdout"
        }
      ]
    },
    {
      "cell_type": "markdown",
      "metadata": {
        "id": "yUbQ4YxrogIW"
      },
      "source": [
        "#Task - 2"
      ]
    },
    {
      "cell_type": "code",
      "metadata": {
        "colab": {
          "base_uri": "https://localhost:8080/"
        },
        "id": "PtIZnEGVoh8z",
        "outputId": "3f300b3b-3a44-4de7-b2c4-144c823ba5f2"
      },
      "source": [
        "class RealNumber:\n",
        "  def __init__(self, number=0):\n",
        "    self.number = number\n",
        "\n",
        "  def __add__(self, anotherRealNumber):\n",
        "    return self.number + anotherRealNumber.number\n",
        "\n",
        "  def __sub__(self, anotherRealNumber):\n",
        "    return self.number - anotherRealNumber.number\n",
        "\n",
        "  def __str__(self):\n",
        "    return str(self.number)\n",
        "\n",
        "class ComplexNumber(RealNumber):\n",
        "  def __init__(self, r, i):\n",
        "    if type(r) is int:\n",
        "      super().__init__(r)\n",
        "    else:\n",
        "      super().__init__(r.number)\n",
        "    self.i = i\n",
        "\n",
        "  def __add__(self, other):\n",
        "    result_r = self.number + other.number\n",
        "    result_i = self.i + other.i\n",
        "    return ComplexNumber(result_r, result_i)\n",
        "\n",
        "  def __sub__(self, other):\n",
        "    result_r = self.number - other.number\n",
        "    result_i = self.i - other.i\n",
        "    return ComplexNumber(result_r, result_i)\n",
        "\n",
        "  def __str__(self):\n",
        "    s = str(self.number)\n",
        "    if self.i < 0:\n",
        "      s += ' - ' + str(-self.i)\n",
        "    else:\n",
        "      s += ' + ' + str(self.i)\n",
        "\n",
        "    s += 'i'\n",
        "    return s\n",
        "r1 = RealNumber(3)\n",
        "r2 = RealNumber(5)\n",
        "print(r1+r2)\n",
        "cn1 = ComplexNumber(2, 1)\n",
        "print(cn1)\n",
        "cn2 = ComplexNumber(r1, 5)\n",
        "print(cn2)\n",
        "cn3 = cn1 + cn2\n",
        "print(cn3)\n",
        "cn4 = cn1 - cn2\n",
        "print(cn4)"
      ],
      "execution_count": null,
      "outputs": [
        {
          "output_type": "stream",
          "text": [
            "8\n",
            "2 + 1i\n",
            "3 + 5i\n",
            "5 + 6i\n",
            "-1 - 4i\n"
          ],
          "name": "stdout"
        }
      ]
    },
    {
      "cell_type": "markdown",
      "metadata": {
        "id": "Z4F8XjY3orQW"
      },
      "source": [
        "#Task -3"
      ]
    },
    {
      "cell_type": "code",
      "metadata": {
        "id": "Bc2-ophWos6d",
        "colab": {
          "base_uri": "https://localhost:8080/"
        },
        "outputId": "29809dc1-64d2-43a1-c0e7-979f6cde9b1f"
      },
      "source": [
        "class Account:\n",
        "  def __init__(self, balance):\n",
        "    self._balance = balance\n",
        "\n",
        "  def getBalance(self):\n",
        "    return self._balance\n",
        "\n",
        "class CheckingAccount(Account):\n",
        "  numberOfAccount = 0\n",
        "  def __init__(self, balance=0.0):\n",
        "    super().__init__(balance)\n",
        "    CheckingAccount.numberOfAccount += 1\n",
        "\n",
        "  def __str__(self):\n",
        "    return 'Account Balance: ' + str(self.getBalance())\n",
        "\n",
        "\n",
        "\n",
        "print('Number of Checking Accounts: ', CheckingAccount.numberOfAccount)\n",
        "print(CheckingAccount())\n",
        "print(CheckingAccount(100.00))\n",
        "print(CheckingAccount(200.00))\n",
        "print('Number of Checking Accounts: ', CheckingAccount.numberOfAccount)"
      ],
      "execution_count": null,
      "outputs": [
        {
          "output_type": "stream",
          "text": [
            "Number of Checking Accounts:  0\n",
            "Account Balance: 0.0\n",
            "Account Balance: 100.0\n",
            "Account Balance: 200.0\n",
            "Number of Checking Accounts:  3\n"
          ],
          "name": "stdout"
        }
      ]
    },
    {
      "cell_type": "markdown",
      "metadata": {
        "id": "hUHva3-ao6Ek"
      },
      "source": [
        "#Task - 4"
      ]
    },
    {
      "cell_type": "code",
      "metadata": {
        "id": "czQDRn4Uo785",
        "colab": {
          "base_uri": "https://localhost:8080/"
        },
        "outputId": "064543c9-42fb-4625-98af-727d49e99540"
      },
      "source": [
        "class Fruit:\n",
        "  def __init__(self, formalin=False, name=''):\n",
        "    self.__formalin = formalin\n",
        "    self.name = name\n",
        "\n",
        "  def getName(self):\n",
        "    return self.name\n",
        "\n",
        "  def hasFormalin(self):\n",
        "    return self.__formalin\n",
        "\n",
        "class testFruit:\n",
        "  def test(self, f):\n",
        "    print('----Printing Detail----')\n",
        "    if f.hasFormalin():\n",
        "      print('Do not eat the',f.getName(),'.')\n",
        "      print(f)\n",
        "    else:\n",
        "      print('Eat the',f.getName(),'.')\n",
        "      print(f)\n",
        "\n",
        "class Mango(Fruit):\n",
        "  def __init__(self):\n",
        "    super().__init__(formalin=True, name='Mango')\n",
        "\n",
        "  def __str__(self):\n",
        "    return 'Mangoes are bad for you'\n",
        "\n",
        "class Jackfruit(Fruit):\n",
        "  def __init__(self):\n",
        "    super().__init__(formalin=False, name='Jackfruit')\n",
        "\n",
        "  def __str__(self):\n",
        "    return 'Jackfruits are good for you'\n",
        "\n",
        "m = Mango()\n",
        "j = Jackfruit()\n",
        "t1 = testFruit()\n",
        "t1.test(m)\n",
        "t1.test(j)"
      ],
      "execution_count": null,
      "outputs": [
        {
          "output_type": "stream",
          "text": [
            "----Printing Detail----\n",
            "Do not eat the Mango .\n",
            "Mangoes are bad for you\n",
            "----Printing Detail----\n",
            "Eat the Jackfruit .\n",
            "Jackfruits are good for you\n"
          ],
          "name": "stdout"
        }
      ]
    },
    {
      "cell_type": "markdown",
      "metadata": {
        "id": "1GRuO-nwpJfM"
      },
      "source": [
        "#Task - 5"
      ]
    },
    {
      "cell_type": "code",
      "metadata": {
        "id": "xhdO-FPkpLdy",
        "colab": {
          "base_uri": "https://localhost:8080/"
        },
        "outputId": "33863d98-533b-43d5-ca49-917257d56da3"
      },
      "source": [
        "class Exam:\n",
        "  def __init__(self,marks):\n",
        "    self.marks = marks\n",
        "    self.time = 60\n",
        "  def examSyllabus(self):\n",
        "    return \"Maths , English\"\n",
        "  def examParts(self):\n",
        "    return \"Part 1 - Maths\\nPart 2 - English\\n\"\n",
        "\n",
        "class ScienceExam(Exam):\n",
        "  def __init__(self, marks, time, *parts):\n",
        "    super().__init__(marks)\n",
        "    self.time = time\n",
        "    self.parts = parts\n",
        "\n",
        "  def examSyllabus(self):\n",
        "    s = super().examSyllabus()\n",
        "    for part in self.parts:\n",
        "       s += ' , ' + part\n",
        "    return s\n",
        "\n",
        "  def examParts(self):\n",
        "    s = super().examParts()\n",
        "    i = 3\n",
        "    for part in self.parts:\n",
        "      s += 'Part ' + str(i) + ' - ' + part + '\\n'\n",
        "      i += 1\n",
        "    return s\n",
        "\n",
        "  def __str__(self):\n",
        "    return 'Marks: ' + str(self.marks) + ' Time: ' + str(self.time) + ' Number of Parts: ' + str(len(self.parts) + 2)\n",
        "\n",
        "engineering = ScienceExam(100,90,\"Physics\",\"HigherMaths\")\n",
        "print(engineering)\n",
        "print('----------------------------------')\n",
        "print(engineering.examSyllabus())\n",
        "print(engineering.examParts())\n",
        "print('==================================')\n",
        "architecture = ScienceExam(100,120,\"Physics\",\"HigherMaths\",\"Drawing\")\n",
        "print(architecture)\n",
        "print('----------------------------------')\n",
        "print(architecture.examSyllabus())\n",
        "print(architecture.examParts())"
      ],
      "execution_count": null,
      "outputs": [
        {
          "output_type": "stream",
          "text": [
            "Marks: 100 Time: 90 Number of Parts: 4\n",
            "----------------------------------\n",
            "Maths , English , Physics , HigherMaths\n",
            "Part 1 - Maths\n",
            "Part 2 - English\n",
            "Part 3 - Physics\n",
            "Part 4 - HigherMaths\n",
            "\n",
            "==================================\n",
            "Marks: 100 Time: 120 Number of Parts: 5\n",
            "----------------------------------\n",
            "Maths , English , Physics , HigherMaths , Drawing\n",
            "Part 1 - Maths\n",
            "Part 2 - English\n",
            "Part 3 - Physics\n",
            "Part 4 - HigherMaths\n",
            "Part 5 - Drawing\n",
            "\n"
          ],
          "name": "stdout"
        }
      ]
    },
    {
      "cell_type": "markdown",
      "metadata": {
        "id": "bWMViSPxpn4y"
      },
      "source": [
        "#Task - 6"
      ]
    },
    {
      "cell_type": "code",
      "metadata": {
        "id": "dpqPN__rppqO",
        "colab": {
          "base_uri": "https://localhost:8080/"
        },
        "outputId": "1f15b707-b174-4b2c-e2ec-deae757b0af8"
      },
      "source": [
        "class Shape3D:\n",
        "  pi = 3.14159\n",
        "  def __init__(self, name = 'Default', radius = 0):\n",
        "    self._area = 0\n",
        "    self._name = name\n",
        "    self._height = 'No need'\n",
        "    self._radius = radius\n",
        "  def calc_surface_area(self):\n",
        "    return 2 * Shape3D.pi * self._radius\n",
        "  def __str__(self):\n",
        "    return \"Radius: \"+str(self._radius)\n",
        "\n",
        "class Sphere(Shape3D):\n",
        "  def __init__(self, name, radius):\n",
        "    super().__init__(name, radius)\n",
        "    print('Shape name: ' + name + ', Area Formula: 4 * pi * r * r')\n",
        "\n",
        "  def calc_surface_area(self):\n",
        "    self._area = 4*Shape3D.pi*self._radius*self._radius\n",
        "    return self._area\n",
        "\n",
        "  def __str__(self):\n",
        "    return 'Radius: ' + str(self._radius) + ', Height: ' + str(self._height) + '\\nArea: ' + str(self._area)\n",
        "\n",
        "\n",
        "class Cylinder(Shape3D):\n",
        "  def __init__(self, name, radius, height):\n",
        "    super().__init__(name, radius)\n",
        "    self._height = height\n",
        "    print('Shape name: ' + name + ', Area Formula: 2 * pi * r * (r + h)')\n",
        "\n",
        "  def calc_surface_area(self):\n",
        "    self._area = 2*Shape3D.pi*self._radius*(self._radius + self._height)\n",
        "    return self._area\n",
        "\n",
        "  def __str__(self):\n",
        "    return 'Radius: ' + str(self._radius) + ', Height: ' + str(self._height) + '\\nArea: ' + str(self._area)\n",
        "\n",
        "sph = Sphere('Sphere', 5)\n",
        "print('----------------------------------')\n",
        "sph.calc_surface_area()\n",
        "print(sph)\n",
        "print('==================================')\n",
        "cyl = Cylinder('Cylinder', 5, 10)\n",
        "print('----------------------------------')\n",
        "cyl.calc_surface_area()\n",
        "print(cyl)"
      ],
      "execution_count": null,
      "outputs": [
        {
          "output_type": "stream",
          "text": [
            "Shape name: Sphere, Area Formula: 4 * pi * r * r\n",
            "----------------------------------\n",
            "Radius: 5, Height: No need\n",
            "Area: 314.159\n",
            "==================================\n",
            "Shape name: Cylinder, Area Formula: 2 * pi * r * (r + h)\n",
            "----------------------------------\n",
            "Radius: 5, Height: 10\n",
            "Area: 471.2385\n"
          ],
          "name": "stdout"
        }
      ]
    },
    {
      "cell_type": "markdown",
      "metadata": {
        "id": "OBPs0Hbsp21r"
      },
      "source": [
        "#Task - 7"
      ]
    },
    {
      "cell_type": "code",
      "metadata": {
        "id": "SKBWMnoWp5HO",
        "colab": {
          "base_uri": "https://localhost:8080/"
        },
        "outputId": "41edf1fc-d0f9-458e-e386-a0e89c1ca03a"
      },
      "source": [
        "class PokemonBasic:\n",
        "  def __init__(self, name = 'Default', hp = 0, weakness = 'None', type = 'Unknown'):\n",
        "    self.name = name\n",
        "    self.hit_point = hp\n",
        "    self.weakness = weakness\n",
        "    self.type = type\n",
        "  def get_type(self):\n",
        "    return 'Main type: ' + self.type\n",
        "  def get_move(self):\n",
        "    return 'Basic move: ' + 'Quick Attack'\n",
        "  def __str__(self):\n",
        "    return \"Name: \" + self.name + \", HP: \" + str(self.hit_point) + \", Weakness: \" + self.weakness\n",
        "\n",
        "\n",
        "class PokemonExtra(PokemonBasic):\n",
        "  def __init__(self, name, hp, weakness, type, sec_type=None, moves=None):\n",
        "    super().__init__(name, hp, weakness, type)\n",
        "    self.sec_type = sec_type\n",
        "    self.moves = moves\n",
        "\n",
        "  def get_type(self):\n",
        "    s = super().get_type()\n",
        "    if self.sec_type is not None:\n",
        "      s += ', Secondary Type: ' + self.sec_type\n",
        "    return s\n",
        "\n",
        "  def get_move(self):\n",
        "    s = super().get_move()\n",
        "    if self.moves is not None:\n",
        "      s += '\\nOther move: ' + ', '.join(self.moves)\n",
        "    return s\n",
        "\n",
        "\n",
        "print('\\n------------Basic Info:--------------')\n",
        "pk = PokemonBasic()\n",
        "print(pk)\n",
        "print(pk.get_type())\n",
        "print(pk.get_move())\n",
        "print('\\n------------Pokemon 1 Info:-------------')\n",
        "charmander = PokemonExtra('Charmander', 39, 'Water',\n",
        "'Fire')\n",
        "print(charmander)\n",
        "print(charmander.get_type())\n",
        "print(charmander.get_move())\n",
        "print('\\n------------Pokemon 2 Info:-------------')\n",
        "charizard = PokemonExtra('Charizard', 78, 'Water',\n",
        "'Fire', 'Flying', ('Fire Spin', 'Fire Blaze'))\n",
        "print(charizard)\n",
        "print(charizard.get_type())\n",
        "print(charizard.get_move())"
      ],
      "execution_count": null,
      "outputs": [
        {
          "output_type": "stream",
          "text": [
            "\n",
            "------------Basic Info:--------------\n",
            "Name: Default, HP: 0, Weakness: None\n",
            "Main type: Unknown\n",
            "Basic move: Quick Attack\n",
            "\n",
            "------------Pokemon 1 Info:-------------\n",
            "Name: Charmander, HP: 39, Weakness: Water\n",
            "Main type: Fire\n",
            "Basic move: Quick Attack\n",
            "\n",
            "------------Pokemon 2 Info:-------------\n",
            "Name: Charizard, HP: 78, Weakness: Water\n",
            "Main type: Fire, Secondary Type: Flying\n",
            "Basic move: Quick Attack\n",
            "Other move: Fire Spin, Fire Blaze\n"
          ],
          "name": "stdout"
        }
      ]
    }
  ]
}
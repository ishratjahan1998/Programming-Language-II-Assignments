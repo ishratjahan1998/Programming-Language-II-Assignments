{
  "nbformat": 4,
  "nbformat_minor": 0,
  "metadata": {
    "colab": {
      "provenance": []
    },
    "kernelspec": {
      "name": "python3",
      "display_name": "Python 3"
    }
  },
  "cells": [
    {
      "cell_type": "markdown",
      "metadata": {
        "id": "ARkXKzfn4ULX"
      },
      "source": [
        "# Problem 1"
      ]
    },
    {
      "cell_type": "code",
      "metadata": {
        "id": "vth6DFCp4OL1",
        "outputId": "4a7ce4a6-cf11-412d-acdb-6df4990a827e",
        "colab": {
          "base_uri": "https://localhost:8080/"
        }
      },
      "source": [
        "class DataType:\n",
        "  def __init__(self, name, value):\n",
        "    self.name = name\n",
        "    self.value = value\n",
        "\n",
        "data_type1 = DataType('Integer', 1234)\n",
        "print(data_type1.name)\n",
        "print(data_type1.value)\n",
        "print('=====================')\n",
        "data_type2 = DataType('String', 'Hello')\n",
        "print(data_type2.name)\n",
        "print(data_type2.value)\n",
        "print('=====================')\n",
        "data_type3 = DataType('Float', 4.0)\n",
        "print(data_type3.name)\n",
        "print(data_type3.value)"
      ],
      "execution_count": null,
      "outputs": [
        {
          "output_type": "stream",
          "text": [
            "Integer\n",
            "1234\n",
            "=====================\n",
            "String\n",
            "Hello\n",
            "=====================\n",
            "Float\n",
            "4.0\n"
          ],
          "name": "stdout"
        }
      ]
    },
    {
      "cell_type": "markdown",
      "metadata": {
        "id": "gITJ8XOi5ZjH"
      },
      "source": [
        "# Problem 2"
      ]
    },
    {
      "cell_type": "code",
      "metadata": {
        "id": "OGUKzWDh5dc_",
        "outputId": "34b4d994-32fb-4f99-aee1-f813386dae0d",
        "colab": {
          "base_uri": "https://localhost:8080/"
        }
      },
      "source": [
        "class Flower:\n",
        "  def __init__ (self):\n",
        "    self.name = ''\n",
        "    self.color = ''\n",
        "    self.num_of_petal = 0\n",
        "\n",
        "\n",
        "flower1 = Flower()\n",
        "flower1.name = \"Rose\"\n",
        "flower1.color = \"Red\"\n",
        "flower1.num_of_petal = 6\n",
        "print(\"Name of this flower:\", flower1.name)\n",
        "print(\"Color of this flower:\", flower1.color)\n",
        "print(\"Number of petal:\", flower1.num_of_petal)\n",
        "print(\"=====================\")\n",
        "flower2 = Flower()\n",
        "flower2.name = \"Orchid\"\n",
        "flower2.color = \"Purple\"\n",
        "flower2.num_of_petal = 4\n",
        "print(\"Name of this flower:\", flower2.name)\n",
        "print(\"Color of this flower:\", flower2.color)\n",
        "print(\"Number of petal:\", flower2.num_of_petal)\n",
        "\n",
        "print(flower1)\n",
        "print(flower2)\n",
        "\n",
        "if flower1 == flower2:\n",
        "  print('They are same')\n",
        "else:\n",
        "  print('They are different')"
      ],
      "execution_count": null,
      "outputs": [
        {
          "output_type": "stream",
          "text": [
            "Name of this flower: Rose\n",
            "Color of this flower: Red\n",
            "Number of petal: 6\n",
            "=====================\n",
            "Name of this flower: Orchid\n",
            "Color of this flower: Purple\n",
            "Number of petal: 4\n",
            "<__main__.Flower object at 0x7f14baec2550>\n",
            "<__main__.Flower object at 0x7f14bae8b4e0>\n",
            "They are same\n"
          ],
          "name": "stdout"
        }
      ]
    },
    {
      "cell_type": "markdown",
      "metadata": {
        "id": "H6XSaFIu9IWA"
      },
      "source": [
        "# Problem 3"
      ]
    },
    {
      "cell_type": "code",
      "metadata": {
        "id": "6j12iykH9Nxk",
        "outputId": "2bc2cf74-acdf-4424-9965-041f76312908",
        "colab": {
          "base_uri": "https://localhost:8080/"
        }
      },
      "source": [
        "class Wadiya():\n",
        "  def __init__(self):\n",
        "    self.name = 'Aladeen'\n",
        "    self.designation = 'President Prime Minister Admiral General'\n",
        "    self.num_of_wife = 100\n",
        "    self.dictator = True\n",
        "\n",
        "wadiya = Wadiya()\n",
        "print('Part 1:')\n",
        "print('Name of President: ' + wadiya.name)\n",
        "print('Designation: ' + wadiya.designation)\n",
        "print('Number of wife: ' + str(wadiya.num_of_wife))\n",
        "print('Is he/she a dictator: ' + str(wadiya.dictator))\n",
        "\n",
        "wadiya.name = 'Donald Trump'\n",
        "wadiya.designation = 'President'\n",
        "wadiya.num_of_wife = 1\n",
        "wadiya.dictator = False\n",
        "\n",
        "print('Part 2:')\n",
        "print('Name of President: ' + wadiya.name)\n",
        "print('Designation: ' + wadiya.designation)\n",
        "print('Number of wife: ' + str(wadiya.num_of_wife))\n",
        "print('Is he/she a dictator: ' + str(wadiya.dictator))\n",
        "\n",
        "print('previous information lost')\n",
        "\n"
      ],
      "execution_count": null,
      "outputs": [
        {
          "output_type": "stream",
          "text": [
            "Part 1:\n",
            "Name of President: Aladeen\n",
            "Designation: President Prime Minister Admiral General\n",
            "Number of wife: 100\n",
            "Is he/she a dictator: True\n",
            "Part 2:\n",
            "Name of President: Donald Trump\n",
            "Designation: President\n",
            "Number of wife: 1\n",
            "Is he/she a dictator: False\n",
            "previous information lost\n"
          ],
          "name": "stdout"
        }
      ]
    },
    {
      "cell_type": "markdown",
      "metadata": {
        "id": "QRDRhoQ7aRMQ"
      },
      "source": [
        "# Problem 4"
      ]
    },
    {
      "cell_type": "code",
      "metadata": {
        "id": "MgwvcvkLaWbs",
        "outputId": "1b9f9d1e-f0f4-4c07-874c-cc27fa12d347",
        "colab": {
          "base_uri": "https://localhost:8080/"
        }
      },
      "source": [
        "class Joker:\n",
        "  def __init__ (self, name, power, psycho):\n",
        "    self.name = name\n",
        "    self.power = power\n",
        "    self.is_he_psycho = psycho\n",
        "\n",
        "j1 = Joker('Heath Ledger', 'Mind Game', False)\n",
        "print(j1.name)\n",
        "print(j1.power)\n",
        "print(j1.is_he_psycho)\n",
        "print('=====================')\n",
        "j2 = Joker('Joaquin Phoenix', 'Laughing out Loud', True)\n",
        "print(j2.name)\n",
        "print(j2.power)\n",
        "print(j2.is_he_psycho)\n",
        "print('=====================')\n",
        "if j1 == j2:\n",
        "  print('same')\n",
        "else:\n",
        "  print('different')\n",
        "\n",
        "j2.name = 'Heath Ledger'\n",
        "if j1.name == j2.name:\n",
        "  print('same')\n",
        "else:\n",
        "  print('different')\n",
        "\n",
        "print(\"The first if/else block prints different because j1 and j2 are two different objects with two different addresses.\")\n",
        "print(\"The second if/else block prints same because the attribute name is equal for j1 and j2 after the name attribute for j2 is changed.\")"
      ],
      "execution_count": null,
      "outputs": [
        {
          "output_type": "stream",
          "text": [
            "Heath Ledger\n",
            "Mind Game\n",
            "False\n",
            "=====================\n",
            "Joaquin Phoenix\n",
            "Laughing out Loud\n",
            "True\n",
            "=====================\n",
            "different\n",
            "same\n",
            "The first if/else block prints different because j1 and j2 are two different objects with two different addresses.\n",
            "The second if/else block prints same because the attribute name is equal for j1 and j2 after the name attribute for j2 is changed.\n"
          ],
          "name": "stdout"
        }
      ]
    },
    {
      "cell_type": "markdown",
      "metadata": {
        "id": "NpKNBq5Hh2u2"
      },
      "source": [
        "# Problem 5"
      ]
    },
    {
      "cell_type": "code",
      "metadata": {
        "id": "e3eQWkDqh6FK",
        "outputId": "e9daba3e-a78f-4540-c2a5-90c672c1773c",
        "colab": {
          "base_uri": "https://localhost:8080/"
        }
      },
      "source": [
        "class Pokemon:\n",
        "  def __init__ (self, p1_name, p2_name, p1_power, p2_power, damage_rate):\n",
        "    self.pokemon1_name = p1_name\n",
        "    self.pokemon2_name = p2_name\n",
        "    self.pokemon1_power = p1_power\n",
        "    self.pokemon2_power = p2_power\n",
        "    self.damage_rate = damage_rate\n",
        "\n",
        "team_pika = Pokemon('pikachu', 'charmander', 90, 60, 10)\n",
        "print('=======Team 1=======')\n",
        "print('Pokemon 1:',team_pika.pokemon1_name, team_pika.pokemon1_power)\n",
        "print('Pokemon 2:',team_pika.pokemon2_name, team_pika.pokemon2_power)\n",
        "pika_combined_power = (team_pika.pokemon1_power + team_pika.pokemon2_power) * team_pika.damage_rate\n",
        "print('Combined Power:', pika_combined_power)\n",
        "\n",
        "team_bulb = Pokemon('bulbasaur', 'squirtle', 80, 70, 9)\n",
        "print('=======Team 2=======')\n",
        "print('Pokemon 1:',team_bulb.pokemon1_name, team_bulb.pokemon1_power)\n",
        "print('Pokemon 2:',team_bulb.pokemon2_name, team_bulb.pokemon2_power)\n",
        "bulb_combined_power = (team_bulb.pokemon1_power + team_bulb.pokemon2_power) * team_bulb.damage_rate\n",
        "print('Combined Power:', bulb_combined_power)\n",
        "\n"
      ],
      "execution_count": null,
      "outputs": [
        {
          "output_type": "stream",
          "text": [
            "=======Team 1=======\n",
            "Pokemon 1: pikachu 90\n",
            "Pokemon 2: charmander 60\n",
            "Combined Power: 1500\n",
            "=======Team 2=======\n",
            "Pokemon 1: bulbasaur 80\n",
            "Pokemon 2: squirtle 70\n",
            "Combined Power: 1350\n"
          ],
          "name": "stdout"
        }
      ]
    },
    {
      "cell_type": "markdown",
      "metadata": {
        "id": "kLEZoPe6h9r6"
      },
      "source": [
        "# Problem 6"
      ]
    },
    {
      "cell_type": "code",
      "metadata": {
        "id": "Fyw_vD5miA0T",
        "outputId": "00924ca8-a83e-4bc3-e6c7-f3f5c54bf8b4",
        "colab": {
          "base_uri": "https://localhost:8080/"
        }
      },
      "source": [
        "class Player:\n",
        "  def __init__ (self):\n",
        "    self.name = ''\n",
        "    self.jersy_number = ''\n",
        "    self.position = 0\n",
        "\n",
        "player1 = Player()\n",
        "player1.name = \"Ronaldo\"\n",
        "player1.jersy_number = 9\n",
        "player1.position = \"Striker\"\n",
        "print(\"Name of the Player:\", player1.name)\n",
        "print(\"Jersey Number of player:\", str(player1.jersy_number))\n",
        "print(\"Position of player:\", player1.position)\n",
        "print('===========================')\n",
        "\n",
        "player2 = Player()\n",
        "player2.name = \"Neuer\"\n",
        "player2.jersy_number = 1\n",
        "player2.position = \"Goal Keeper\"\n",
        "print(\"Name of the player:\", player2.name)\n",
        "print(\"Jersey Number of player:\", str(player2.jersy_number))\n",
        "print(\"Position of player:\", player2.position)\n"
      ],
      "execution_count": null,
      "outputs": [
        {
          "output_type": "stream",
          "text": [
            "Name of the Player: Ronaldo\n",
            "Jersey Number of player: 9\n",
            "Position of player: Striker\n",
            "===========================\n",
            "Name of the player: Neuer\n",
            "Jersey Number of player: 1\n",
            "Position of player: Goal Keeper\n"
          ],
          "name": "stdout"
        }
      ]
    },
    {
      "cell_type": "markdown",
      "metadata": {
        "id": "uxujDCcYiILQ"
      },
      "source": [
        "# Problem 7"
      ]
    },
    {
      "cell_type": "code",
      "metadata": {
        "id": "iGDqYUpsiKUz",
        "outputId": "58864ab4-8f72-4dc2-edb6-02239a4714f3",
        "colab": {
          "base_uri": "https://localhost:8080/"
        }
      },
      "source": [
        "class Country:\n",
        "  def __init__ (self):\n",
        "    self.name = 'Bangladesh'\n",
        "    self.continent = 'Asia'\n",
        "    self.capital = 'Dhaka'\n",
        "    self.fifa_ranking = 187\n",
        "\n",
        "country = Country()\n",
        "print('Name: ' + country.name)\n",
        "print('Continent: ' + country.continent)\n",
        "print('Capital: ' + country.capital)\n",
        "print('Fifa Ranking: ' + str(country.fifa_ranking))\n",
        "print('===================')\n",
        "\n",
        "country.name = 'Belgium'\n",
        "country.continent = 'Europe'\n",
        "country.capital = 'Brussels'\n",
        "country.fifa_ranking = 1\n",
        "print('Name: ' + country.name)\n",
        "print('Continent: ' + country.continent)\n",
        "print('Capital: ' + country.capital)\n",
        "print('Fifa Ranking: ' + str(country.fifa_ranking))\n"
      ],
      "execution_count": null,
      "outputs": [
        {
          "output_type": "stream",
          "text": [
            "Name: Bangladesh\n",
            "Continent: Asia\n",
            "Capital: Dhaka\n",
            "Fifa Ranking: 187\n",
            "===================\n",
            "Name: Belgium\n",
            "Continent: Europe\n",
            "Capital: Brussels\n",
            "Fifa Ranking: 1\n"
          ],
          "name": "stdout"
        }
      ]
    },
    {
      "cell_type": "markdown",
      "metadata": {
        "id": "alGXCzH-iOYh"
      },
      "source": [
        "# Problem 8"
      ]
    },
    {
      "cell_type": "code",
      "metadata": {
        "id": "LiP_1dyniRRZ",
        "outputId": "d39326ed-af97-4619-c090-c7fe662f4378",
        "colab": {
          "base_uri": "https://localhost:8080/"
        }
      },
      "source": [
        "class DemonSlayer:\n",
        "  def __init__ (self, name, style, number_of_technique, kill):\n",
        "    self.name = name\n",
        "    self.style = style\n",
        "    self.number_of_technique = number_of_technique\n",
        "    self.kill = kill\n",
        "\n",
        "tanjiro = DemonSlayer(\"Tanjiro\", \"Water Breathing\", 10, 10)\n",
        "print('Name:',tanjiro.name)\n",
        "print('Fighting Style:',tanjiro.style)\n",
        "print(f'Knows {tanjiro.number_of_technique} technique(s) and has killed {tanjiro.kill} demon(s)')\n",
        "print('===================')\n",
        "\n",
        "zenitsu = DemonSlayer(\"Zenitsu\", \"Thunder Breathing\", 1, 4)\n",
        "print('Name:',zenitsu.name)\n",
        "print('Fighting Style:',zenitsu.style)\n",
        "print(f'Knows {zenitsu.number_of_technique} technique(s) and has killed {zenitsu.kill} demon(s)')\n",
        "print('===================')\n",
        "\n",
        "inosuke = DemonSlayer(\"Inosuke\", \"Beast Breathing\", 5, 7)\n",
        "print('Name:',inosuke.name)\n",
        "print('Fighting Style:',inosuke.style)\n",
        "print(f'Knows {inosuke.number_of_technique} technique(s) and has killed {inosuke.kill} demon(s)')\n",
        "print('===================')\n",
        "\n",
        "print(f'{tanjiro.name}, {zenitsu.name}, {inosuke.name} knows total {tanjiro.number_of_technique + zenitsu.number_of_technique + inosuke.number_of_technique} techniques')\n",
        "print(f'They have killed total {tanjiro.kill + zenitsu.kill + inosuke.kill} demons')\n"
      ],
      "execution_count": null,
      "outputs": [
        {
          "output_type": "stream",
          "text": [
            "Name: Tanjiro\n",
            "Fighting Style: Water Breathing\n",
            "Knows 10 technique(s) and has killed 10 demon(s)\n",
            "===================\n",
            "Name: Zenitsu\n",
            "Fighting Style: Thunder Breathing\n",
            "Knows 1 technique(s) and has killed 4 demon(s)\n",
            "===================\n",
            "Name: Inosuke\n",
            "Fighting Style: Beast Breathing\n",
            "Knows 5 technique(s) and has killed 7 demon(s)\n",
            "===================\n",
            "Tanjiro, Zenitsu, Inosuke knows total 16 techniques\n",
            "They have killed total 21 demons\n"
          ],
          "name": "stdout"
        }
      ]
    }
  ]
}
{
  "nbformat": 4,
  "nbformat_minor": 0,
  "metadata": {
    "colab": {
      "provenance": []
    },
    "kernelspec": {
      "name": "python3",
      "display_name": "Python 3"
    }
  },
  "cells": [
    {
      "cell_type": "markdown",
      "metadata": {
        "id": "cbIpfOAD4OqP"
      },
      "source": [
        "# String Problem 1"
      ]
    },
    {
      "cell_type": "code",
      "metadata": {
        "id": "dQAHukG94NgH",
        "outputId": "fd331598-fa30-48f5-b214-e2b0547d3ccf",
        "colab": {
          "base_uri": "https://localhost:8080/",
          "height": 53
        }
      },
      "source": [
        "s = input()\n",
        "\n",
        "upper, lower = 0, 0\n",
        "for char in s:\n",
        "  if 'a' <= char and char <= 'z':\n",
        "    lower += 1\n",
        "  elif 'A' <= char and char <= 'Z':\n",
        "    upper += 1\n",
        "if upper > lower:\n",
        "  print(s.upper())\n",
        "else:\n",
        "  print(s.lower())\n"
      ],
      "execution_count": null,
      "outputs": [
        {
          "output_type": "stream",
          "text": [
            "BaNaNa\n",
            "banana\n"
          ],
          "name": "stdout"
        }
      ]
    },
    {
      "cell_type": "markdown",
      "metadata": {
        "id": "cgXmhtvCBDUX"
      },
      "source": [
        "#String Problem 2"
      ]
    },
    {
      "cell_type": "code",
      "metadata": {
        "id": "w6-xr46KBQDj",
        "outputId": "47dc0210-4da4-4eda-c81c-e7a76f198e5c",
        "colab": {
          "base_uri": "https://localhost:8080/",
          "height": 53
        }
      },
      "source": [
        "s = input()\n",
        "\n",
        "digit, word = 0, 0\n",
        "for char in s:\n",
        "  if '0' <= char and char <= '9':\n",
        "    digit = 1\n",
        "  elif ('a' <= char and char <= 'z') or ('A' <= char and char <= 'Z'):\n",
        "    word = 1\n",
        "if digit == 1 and word == 1:\n",
        "  print('MIXED')\n",
        "elif digit == 1:\n",
        "  print('NUMBER')\n",
        "elif word == 1:\n",
        "  print('WORD')\n",
        ""
      ],
      "execution_count": null,
      "outputs": [
        {
          "output_type": "stream",
          "text": [
            "Hello\n",
            "WORD\n"
          ],
          "name": "stdout"
        }
      ]
    },
    {
      "cell_type": "markdown",
      "metadata": {
        "id": "uHF0ShToFO4t"
      },
      "source": [
        "#String Problem 3"
      ]
    },
    {
      "cell_type": "code",
      "metadata": {
        "id": "D_eoMwWiFT9F",
        "outputId": "4d6cd55f-f81c-44fe-8b8d-c496dd09b1a8",
        "colab": {
          "base_uri": "https://localhost:8080/",
          "height": 53
        }
      },
      "source": [
        "s = input()\n",
        "\n",
        "output_string = ''\n",
        "upper_case_found = 0\n",
        "for char in s:\n",
        "  if 'a' <= char and char <= 'z':\n",
        "    if upper_case_found == 1:\n",
        "      output_string += char\n",
        "  elif 'A' <= char and char <= 'Z':\n",
        "    upper_case_found += 1\n",
        "if output_string != '':\n",
        "  print(output_string)\n",
        "else:\n",
        "  print('BLANK')\n"
      ],
      "execution_count": null,
      "outputs": [
        {
          "output_type": "stream",
          "text": [
            "coDIng\n",
            "BLANK\n"
          ],
          "name": "stdout"
        }
      ]
    },
    {
      "cell_type": "markdown",
      "metadata": {
        "id": "XyKoeHLtLbG_"
      },
      "source": [
        "#String Problem 4"
      ]
    },
    {
      "cell_type": "code",
      "metadata": {
        "id": "xCiPiyy_Lild",
        "outputId": "d1b58155-0a96-4f4d-a99f-f34a59451567",
        "colab": {
          "base_uri": "https://localhost:8080/",
          "height": 53
        }
      },
      "source": [
        "s = input()\n",
        "\n",
        "w = s.replace('too good', 'excellent')\n",
        "print(w)"
      ],
      "execution_count": null,
      "outputs": [
        {
          "output_type": "stream",
          "text": [
            "This book is good too!\n",
            "This book is good too!\n"
          ],
          "name": "stdout"
        }
      ]
    },
    {
      "cell_type": "markdown",
      "metadata": {
        "id": "twupH2htQIgW"
      },
      "source": [
        "# String Problem 5"
      ]
    },
    {
      "cell_type": "code",
      "metadata": {
        "id": "Zkv_ORiQQRKt",
        "outputId": "6d4d5e5a-a657-482c-a9db-d7cf7ce87024",
        "colab": {
          "base_uri": "https://localhost:8080/",
          "height": 72
        }
      },
      "source": [
        "r = input()\n",
        "s = input()\n",
        "output_string = ''\n",
        "\n",
        "for char in r:\n",
        "  if s.count(char) > 0:\n",
        "    output_string += char\n",
        "\n",
        "for char in s:\n",
        "  if r.count(char) > 0:\n",
        "    output_string += char\n",
        "\n",
        "if output_string != '':\n",
        "  print(output_string)\n",
        "else:\n",
        "  print('Nothing in common.')\n",
        "\n",
        "\n",
        "\n",
        "\n"
      ],
      "execution_count": null,
      "outputs": [
        {
          "output_type": "stream",
          "text": [
            "dean\n",
            "tom\n",
            "Nothing in common.\n"
          ],
          "name": "stdout"
        }
      ]
    },
    {
      "cell_type": "markdown",
      "metadata": {
        "id": "tU2nh-a4dAEQ"
      },
      "source": [
        "#String Problem 6"
      ]
    },
    {
      "cell_type": "code",
      "metadata": {
        "id": "bHd2R7AEdFWK",
        "outputId": "00bfc77f-6491-455e-c127-dc40ba0a5f99",
        "colab": {
          "base_uri": "https://localhost:8080/",
          "height": 90
        }
      },
      "source": [
        "s = input()\n",
        "\n",
        "lowercase, uppercase, digit, special_character = 0, 0, 0, 0\n",
        "for char in s:\n",
        "  if ('a' <= char and char <= 'z'):\n",
        "    lowercase = 1\n",
        "  elif ('A' <= char and char <= 'Z'):\n",
        "    uppercase = 1\n",
        "  elif '0' <= char and char <= '9':\n",
        "    digit = 1\n",
        "  else:\n",
        "    special_character = 1\n",
        "if lowercase == 1 and uppercase == 1 and digit == 1 and special_character == 1:\n",
        "  print('OK')\n",
        "if special_character == 0:\n",
        "  print('Special character missing')\n",
        "if digit == 0:\n",
        "  print('Digit missing')\n",
        "if lowercase == 0:\n",
        "  print('Lowercase Missing')\n",
        "if uppercase == 0:\n",
        "  print('Uppercase Missing')\n",
        ""
      ],
      "execution_count": null,
      "outputs": [
        {
          "output_type": "stream",
          "text": [
            "ISHRAF\n",
            "Special character missing\n",
            "Digit missing\n",
            "Lowercase Missing\n"
          ],
          "name": "stdout"
        }
      ]
    },
    {
      "cell_type": "markdown",
      "metadata": {
        "id": "3uo5sCPOmTMY"
      },
      "source": [
        "#List Problem 1"
      ]
    },
    {
      "cell_type": "code",
      "metadata": {
        "id": "8Pc4WhuumZ8p",
        "outputId": "62569c7d-ca02-4f0b-829d-f1bc7316b61a",
        "colab": {
          "base_uri": "https://localhost:8080/",
          "height": 253
        }
      },
      "source": [
        "number_list = []\n",
        "\n",
        "while True:\n",
        "  s = input()\n",
        "  if s == 'STOP':\n",
        "      break\n",
        "  number_list.append(s)\n",
        "for x in number_list:\n",
        "  w = number_list.count(x)\n",
        "  print(str(x) + ' ' + '-' + ' ' + (str(w)) + ' ' + 'times')"
      ],
      "execution_count": null,
      "outputs": [
        {
          "output_type": "stream",
          "text": [
            "10\n",
            "20\n",
            "20\n",
            "10\n",
            "10\n",
            "30\n",
            "STOP\n",
            "10 -3 times\n",
            "20 -2 times\n",
            "20 -2 times\n",
            "10 -3 times\n",
            "10 -3 times\n",
            "30 -1 times\n"
          ],
          "name": "stdout"
        }
      ]
    },
    {
      "cell_type": "markdown",
      "metadata": {
        "id": "zWcnfg293R3V"
      },
      "source": [
        "#List Problem 2"
      ]
    },
    {
      "cell_type": "code",
      "metadata": {
        "id": "BRIeb_3v3WXb"
      },
      "source": [],
      "execution_count": null,
      "outputs": []
    }
  ]
}
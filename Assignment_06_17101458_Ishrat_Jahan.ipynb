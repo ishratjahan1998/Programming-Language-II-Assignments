{
  "nbformat": 4,
  "nbformat_minor": 0,
  "metadata": {
    "colab": {
      "provenance": []
    },
    "kernelspec": {
      "name": "python3",
      "display_name": "Python 3"
    }
  },
  "cells": [
    {
      "cell_type": "markdown",
      "metadata": {
        "id": "tzUl3C91qRJa"
      },
      "source": [
        "#Task - 1"
      ]
    },
    {
      "cell_type": "code",
      "metadata": {
        "id": "1n843VWNqccG",
        "colab": {
          "base_uri": "https://localhost:8080/"
        },
        "outputId": "98b7b9a4-5bae-4650-f8d7-71e53a77e073"
      },
      "source": [
        "class Student:\n",
        "  ID = 0\n",
        "  def __init__(self, name, department, age, cgpa):\n",
        "    self.name = name\n",
        "    self.department = department\n",
        "    self.age = age\n",
        "    self.cgpa = cgpa\n",
        "    Student.ID += 1\n",
        "\n",
        "  def get_details(self):\n",
        "    print('ID:', self.ID)\n",
        "    print('Name:', self.name)\n",
        "    print('Department:', self.department)\n",
        "    print('Age:', self.age)\n",
        "    print('CGPA:', self.cgpa)\n",
        "\n",
        "  @classmethod\n",
        "  def from_String(cls, info):\n",
        "    name, department, age, cgpa = info.split('-')\n",
        "    return cls(name, department, age, cgpa)\n",
        "\n",
        "s1 = Student(\"Samin\", \"CSE\", 21, 3.91)\n",
        "s1.get_details()\n",
        "print(\"-----------------------\")\n",
        "s2 = Student(\"Fahim\", \"ECE\", 21, 3.85)\n",
        "s2.get_details()\n",
        "print(\"-----------------------\")\n",
        "s3 = Student(\"Tahura\", \"EEE\", 22, 3.01)\n",
        "s3.get_details()\n",
        "print(\"-----------------------\")\n",
        "s4 = Student.from_String(\"Sumaiya-BBA-23-3.96\")\n",
        "s4.get_details()\n",
        "\n",
        "\n",
        "\n",
        "print('A class variable can be accessed without creating an object of the\\\n",
        " class unlike an instance variable. Also a class variable holds the same value for every object of the class.')\n",
        "\n",
        "print()\n",
        "\n",
        "print('A class method can be accessed without creating an object of the\\\n",
        " class unlike an instance method. Also, they cannot access and modify the class instance.')"
      ],
      "execution_count": null,
      "outputs": [
        {
          "output_type": "stream",
          "text": [
            "ID: 1\n",
            "Name: Samin\n",
            "Department: CSE\n",
            "Age: 21\n",
            "CGPA: 3.91\n",
            "-----------------------\n",
            "ID: 2\n",
            "Name: Fahim\n",
            "Department: ECE\n",
            "Age: 21\n",
            "CGPA: 3.85\n",
            "-----------------------\n",
            "ID: 3\n",
            "Name: Tahura\n",
            "Department: EEE\n",
            "Age: 22\n",
            "CGPA: 3.01\n",
            "-----------------------\n",
            "ID: 4\n",
            "Name: Sumaiya\n",
            "Department: BBA\n",
            "Age: 23\n",
            "CGPA: 3.96\n",
            "A class variable can be accessed without creating an object of the class unlike an instance variable. Also a class variable holds the same value for every object of the class.\n",
            "\n",
            "A class method can be accessed without creating an object of the class unlike an instance method. Also, they cannot access and modify the class instance.\n"
          ],
          "name": "stdout"
        }
      ]
    },
    {
      "cell_type": "markdown",
      "metadata": {
        "id": "R5wtGLkvqmD3"
      },
      "source": [
        "#Task - 2"
      ]
    },
    {
      "cell_type": "code",
      "metadata": {
        "id": "7ZgWYsVzqokS",
        "colab": {
          "base_uri": "https://localhost:8080/"
        },
        "outputId": "098640a6-c2cf-4ea4-b28c-2732394baee2"
      },
      "source": [
        "class Dates:\n",
        "  def __init__(self, date):\n",
        "    self.date = date\n",
        "\n",
        "  @classmethod\n",
        "  def toDashDate(cls, date):\n",
        "    return cls(date.replace('/', '-'))\n",
        "\n",
        "  def getDate(self):\n",
        "    return self.date\n",
        "\n",
        "date1 = Dates(\"05-09-2020\")\n",
        "dateFromDB = \"05/09/2020\"\n",
        "date2= Dates.toDashDate(dateFromDB)\n",
        "if (date1.getDate() == date2.getDate()):\n",
        "  print(\"Equal\")\n",
        "else:\n",
        "  print(\"Unequal\")\n",
        "\n",
        "print('It prints Equal because the / is being replaced by -')"
      ],
      "execution_count": null,
      "outputs": [
        {
          "output_type": "stream",
          "text": [
            "Equal\n",
            "It prints Equal because the / is being replaced by -\n"
          ],
          "name": "stdout"
        }
      ]
    },
    {
      "cell_type": "markdown",
      "metadata": {
        "id": "Ijv9rOAKqqg1"
      },
      "source": [
        "#Task - 3"
      ]
    },
    {
      "cell_type": "code",
      "metadata": {
        "id": "j2cYZJvQqs7x",
        "colab": {
          "base_uri": "https://localhost:8080/"
        },
        "outputId": "829241dc-8430-4f07-852f-d6deec6550cc"
      },
      "source": [
        "class Passenger:\n",
        "  count = 0\n",
        "  def __init__(self, name):\n",
        "    self.name = name\n",
        "    Passenger.count += 1\n",
        "\n",
        "  def set_bag_weight(self, weight):\n",
        "    self.weight = weight\n",
        "    if weight <= 20:\n",
        "      self.bus_fare = 450\n",
        "    elif weight >= 21 and weight <= 50:\n",
        "      self.bus_fare = 500\n",
        "    else:\n",
        "      self.bus_fare = 550\n",
        "\n",
        "  def printDetail(self):\n",
        "    print('Name:', self.name)\n",
        "    print('Bus Fare:', self.bus_fare)\n",
        "\n",
        "\n",
        "print('Total Passenger', Passenger.count)\n",
        "p1 = Passenger('Jack')\n",
        "p1.set_bag_weight(90)\n",
        "p2 = Passenger('Carol')\n",
        "p2.set_bag_weight(10)\n",
        "p3 = Passenger('Mike')\n",
        "p3.set_bag_weight(25)\n",
        "print(\"=========================\")\n",
        "p1.printDetail()\n",
        "print(\"=========================\")\n",
        "p2.printDetail()\n",
        "print(\"=========================\")\n",
        "p3.printDetail()\n",
        "print(\"=========================\")\n",
        "print('Total Passenger:', Passenger.count)"
      ],
      "execution_count": null,
      "outputs": [
        {
          "output_type": "stream",
          "text": [
            "Total Passenger 0\n",
            "=========================\n",
            "Name: Jack\n",
            "Bus Fare: 550\n",
            "=========================\n",
            "Name: Carol\n",
            "Bus Fare: 450\n",
            "=========================\n",
            "Name: Mike\n",
            "Bus Fare: 500\n",
            "=========================\n",
            "Total Passenger: 3\n"
          ],
          "name": "stdout"
        }
      ]
    },
    {
      "cell_type": "markdown",
      "metadata": {
        "id": "vYl7nM33qy3w"
      },
      "source": [
        "#Task - 4"
      ]
    },
    {
      "cell_type": "code",
      "metadata": {
        "id": "BN8dclTpq1nL",
        "colab": {
          "base_uri": "https://localhost:8080/"
        },
        "outputId": "50867a3c-d2fe-45b5-95ac-894ab0dcb925"
      },
      "source": [
        "class Travel:\n",
        "  count = 0\n",
        "  def __init__(self, source, destination):\n",
        "    self.source = source\n",
        "    self.destination = destination\n",
        "    self.time = 1\n",
        "    Travel.count += 1\n",
        "\n",
        "  def set_source(self, source):\n",
        "    self.source = source\n",
        "\n",
        "  def set_destination(self, destination):\n",
        "    self.destination = destination\n",
        "\n",
        "  def set_time(self, time):\n",
        "    self.time = time\n",
        "\n",
        "  def display_travel_info(self):\n",
        "    s = 'Source: ' + self.source + '\\n' + 'Destination: ' + self.destination + '\\n' + 'Flight Time: ' + str(self.time) + ':00'\n",
        "    return s\n",
        "\n",
        "print('No. of Traveller =', Travel.count)\n",
        "print(\"=======================\")\n",
        "t1 = Travel(\"Dhaka\",\"India\")\n",
        "print(t1.display_travel_info())\n",
        "print(\"=======================\")\n",
        "t2 = Travel(\"Kuala Lampur\",\"Dhaka\")\n",
        "t2.set_time(23)\n",
        "print(t2.display_travel_info())\n",
        "print(\"=======================\")\n",
        "t3 = Travel(\"Dhaka\",\"New_Zealand\")\n",
        "t3.set_time(15)\n",
        "t3.set_destination(\"Germany\")\n",
        "print(t3.display_travel_info())\n",
        "print(\"=======================\")\n",
        "t4 = Travel(\"Dhaka\",\"India\")\n",
        "t4.set_time(9)\n",
        "t4.set_source(\"Malaysia\")\n",
        "t4.set_destination(\"Canada\")\n",
        "print(t4.display_travel_info())\n",
        "print(\"=======================\")\n",
        "print('No. of Traveller =', Travel.count)"
      ],
      "execution_count": null,
      "outputs": [
        {
          "output_type": "stream",
          "text": [
            "No. of Traveller = 0\n",
            "=======================\n",
            "Source: Dhaka\n",
            "Destination: India\n",
            "Flight Time: 1:00\n",
            "=======================\n",
            "Source: Kuala Lampur\n",
            "Destination: Dhaka\n",
            "Flight Time: 23:00\n",
            "=======================\n",
            "Source: Dhaka\n",
            "Destination: Germany\n",
            "Flight Time: 15:00\n",
            "=======================\n",
            "Source: Malaysia\n",
            "Destination: Canada\n",
            "Flight Time: 9:00\n",
            "=======================\n",
            "No. of Traveller = 4\n"
          ],
          "name": "stdout"
        }
      ]
    },
    {
      "cell_type": "markdown",
      "metadata": {
        "id": "4jAXQ4A7q87k"
      },
      "source": [
        "#Task - 5"
      ]
    },
    {
      "cell_type": "code",
      "metadata": {
        "id": "qhhkfxtfq_eU",
        "colab": {
          "base_uri": "https://localhost:8080/"
        },
        "outputId": "5e299a30-c994-408e-8f71-6c3240354ef7"
      },
      "source": [
        "class Fruit:\n",
        "  fruitCount = 0\n",
        "  def __init__(self, name, count):\n",
        "    self.name = name\n",
        "    self.count = count\n",
        "    Fruit.fruitCount += count\n",
        "\n",
        "  @staticmethod\n",
        "  def saySomethingGood():\n",
        "    print('Fruits are good for health')\n",
        "\n",
        "  @staticmethod\n",
        "  def resetcount():\n",
        "    Fruit.fruitCount = 0\n",
        "\n",
        "apples = Fruit(\"Apple\", 3);\n",
        "pears = Fruit(\"Pear\", 4);\n",
        "print(apples.name, apples.count)\n",
        "print(pears.name,pears.count)\n",
        "print(\"Total number of fruits\", Fruit.fruitCount)\n",
        "Fruit.saySomethingGood()\n",
        "Fruit.resetcount()\n",
        "print(\"Total number of fruits\", Fruit.fruitCount)"
      ],
      "execution_count": null,
      "outputs": [
        {
          "output_type": "stream",
          "text": [
            "Apple 3\n",
            "Pear 4\n",
            "Total number of fruits 7\n",
            "Fruits are good for health\n",
            "Total number of fruits 0\n"
          ],
          "name": "stdout"
        }
      ]
    },
    {
      "cell_type": "markdown",
      "metadata": {
        "id": "yU9Ua5H_rG7J"
      },
      "source": [
        "#Task - 6"
      ]
    },
    {
      "cell_type": "code",
      "metadata": {
        "id": "7dEf0CvnrJZx",
        "colab": {
          "base_uri": "https://localhost:8080/"
        },
        "outputId": "dee70099-0a50-4d57-ee5a-f211419b3c9e"
      },
      "source": [
        "class Cat:\n",
        "  Number_of_cats = 0\n",
        "  def __init__(self, color, action):\n",
        "    self.color = color\n",
        "    self.action = action\n",
        "    Cat.Number_of_cats += 1\n",
        "\n",
        "  @classmethod\n",
        "  def no_parameter(cls):\n",
        "    return cls('White', 'sitting')\n",
        "\n",
        "  @classmethod\n",
        "  def first_parameter(cls, color):\n",
        "    return cls(color, 'sitting')\n",
        "\n",
        "  @classmethod\n",
        "  def second_parameter(cls, action):\n",
        "    return cls('Grey', action)\n",
        "\n",
        "  def printCat(self):\n",
        "    print(self.color + ' cat is ' + self.action)\n",
        "\n",
        "  def changeColor(self, color):\n",
        "    self.color = color\n",
        "\n",
        "print(\"Total number of cats:\", Cat.Number_of_cats)\n",
        "c1 = Cat.no_parameter()\n",
        "c2 = Cat.first_parameter(\"Black\")\n",
        "c3 = Cat(\"Brown\", \"jumping\")\n",
        "c4 = Cat(\"Red\", \"purring\")\n",
        "c5 = Cat.second_parameter(\"playing\")\n",
        "print(\"=======================\")\n",
        "c1.printCat()\n",
        "c2.printCat()\n",
        "c3.printCat()\n",
        "c4.printCat()\n",
        "c5.printCat()\n",
        "c1.changeColor(\"Blue\")\n",
        "c3.changeColor(\"Purple\")\n",
        "c1.printCat()\n",
        "c3.printCat()\n",
        "print(\"=======================\")\n",
        "print(\"Total number of cats:\", Cat.Number_of_cats)"
      ],
      "execution_count": null,
      "outputs": [
        {
          "output_type": "stream",
          "text": [
            "Total number of cats: 0\n",
            "=======================\n",
            "White cat is sitting\n",
            "Black cat is sitting\n",
            "Brown cat is jumping\n",
            "Red cat is purring\n",
            "Grey cat is playing\n",
            "Blue cat is sitting\n",
            "Purple cat is jumping\n",
            "=======================\n",
            "Total number of cats: 5\n"
          ],
          "name": "stdout"
        }
      ]
    },
    {
      "cell_type": "markdown",
      "metadata": {
        "id": "IdCe4_NZrQlb"
      },
      "source": [
        "#Task - 7"
      ]
    },
    {
      "cell_type": "code",
      "metadata": {
        "id": "bmDx1pJZrSwA",
        "colab": {
          "base_uri": "https://localhost:8080/"
        },
        "outputId": "b2e83c82-ae2a-4967-e892-19a94cd3d7f3"
      },
      "source": [
        "from math import pi\n",
        "\n",
        "class Cylinder:\n",
        "  radius = 5\n",
        "  height = 18\n",
        "  def __init__(self, radius, height):\n",
        "    print('Default radius=' + str(Cylinder.radius) + ' and height=' + str(Cylinder.height))\n",
        "    Cylinder.radius = radius\n",
        "    Cylinder.height = height\n",
        "    print('Updated radius=' + str(Cylinder.radius) + ' and height=' + str(Cylinder.height))\n",
        "\n",
        "  @staticmethod\n",
        "  def area(radius, height):\n",
        "    a = (2*pi*radius**2) + (2*pi*radius*height)\n",
        "    print('Area:', str(a))\n",
        "\n",
        "  @staticmethod\n",
        "  def volume(radius, height):\n",
        "    v = pi*radius**2*height\n",
        "    print('Volume:', str(v))\n",
        "\n",
        "  @classmethod\n",
        "  def swap(cls, height, radius):\n",
        "    return cls(radius, height)\n",
        "\n",
        "  @classmethod\n",
        "  def changeFormat(cls, rh):\n",
        "    radius, height = rh.split('-')\n",
        "    return cls(float(radius), float(height))\n",
        "\n",
        "\n",
        "c1 = Cylinder(0,0)\n",
        "Cylinder.area(c1.radius,c1.height)\n",
        "Cylinder.volume(c1.radius,c1.height)\n",
        "print(\"===============================\")\n",
        "c2 = Cylinder.swap(8,3)\n",
        "c2.area(c2.radius,c2.height)\n",
        "c2.volume(c2.radius,c2.height)\n",
        "print(\"===============================\")\n",
        "c3 = Cylinder.changeFormat(\"7-13\")\n",
        "c3.area(c3.radius,c3.height)\n",
        "c3.volume(c3.radius,c3.height)\n",
        "print(\"===============================\")\n",
        "Cylinder(0.3,5.56).area(Cylinder.radius,Cylinder.height)\n",
        "print(\"===============================\")\n",
        "Cylinder(3,5).volume(Cylinder.radius,Cylinder.height)"
      ],
      "execution_count": null,
      "outputs": [
        {
          "output_type": "stream",
          "text": [
            "Default radius=5 and height=18\n",
            "Updated radius=0 and height=0\n",
            "Area: 0.0\n",
            "Volume: 0.0\n",
            "===============================\n",
            "Default radius=0 and height=0\n",
            "Updated radius=3 and height=8\n",
            "Area: 207.34511513692635\n",
            "Volume: 226.1946710584651\n",
            "===============================\n",
            "Default radius=3 and height=8\n",
            "Updated radius=7.0 and height=13.0\n",
            "Area: 879.645943005142\n",
            "Volume: 2001.1945203366981\n",
            "===============================\n",
            "Default radius=7.0 and height=13.0\n",
            "Updated radius=0.3 and height=5.56\n",
            "Area: 11.045839770021713\n",
            "===============================\n",
            "Default radius=0.3 and height=5.56\n",
            "Updated radius=3 and height=5\n",
            "Volume: 141.3716694115407\n"
          ],
          "name": "stdout"
        }
      ]
    }
  ]
}
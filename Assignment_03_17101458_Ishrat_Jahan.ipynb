{
  "nbformat": 4,
  "nbformat_minor": 0,
  "metadata": {
    "colab": {
      "provenance": []
    },
    "kernelspec": {
      "name": "python3",
      "display_name": "Python 3"
    }
  },
  "cells": [
    {
      "cell_type": "markdown",
      "metadata": {
        "id": "DcoXS-h4tt9n"
      },
      "source": [
        "#Task - 1"
      ]
    },
    {
      "cell_type": "code",
      "metadata": {
        "id": "MVzjAmkWuYw_",
        "outputId": "1a415200-a95b-40ac-d640-2d0e4172c481",
        "colab": {
          "base_uri": "https://localhost:8080/"
        }
      },
      "source": [
        "class Calculator:\n",
        "  def __init__(self):\n",
        "    print(\"Let's Calculate!\")\n",
        "\n",
        "  def add(self, a, b):\n",
        "    return a + b\n",
        "\n",
        "  def subtract(self, a, b):\n",
        "    return a - b\n",
        "\n",
        "  def multiply(self, a, b):\n",
        "    return a*b\n",
        "\n",
        "  def divide(self, a, b):\n",
        "    return a/b\n",
        "\n",
        "first_value = (int(input()))\n",
        "operator = (input())\n",
        "second_value = (int(input()))\n",
        "\n",
        "calculator = Calculator()\n",
        "\n",
        "if operator == '+':\n",
        "  res = calculator.add(first_value, second_value)\n",
        "if operator == '-':\n",
        "  res = calculator.subtract(first_value, second_value)\n",
        "if operator == '*':\n",
        "  res = calculator.multiply(first_value, second_value)\n",
        "if operator == '/':\n",
        "  res = calculator.divide(first_value, second_value)\n",
        "\n",
        "print('Value 1: ' + str(first_value))\n",
        "print('Operator: ' + operator)\n",
        "print('Value 2: ' + str(second_value))\n",
        "print('Result:', res)\n",
        "\n",
        "\n"
      ],
      "execution_count": null,
      "outputs": [
        {
          "output_type": "stream",
          "text": [
            "3\n",
            "/\n",
            "2\n",
            "Let's Calculate\n",
            "Value 1: 3\n",
            "Operator: /\n",
            "Value 2: 2\n",
            "Result: 1.5\n"
          ],
          "name": "stdout"
        }
      ]
    },
    {
      "cell_type": "markdown",
      "metadata": {
        "id": "mr3pLPD39J1a"
      },
      "source": [
        "#Task - 2"
      ]
    },
    {
      "cell_type": "code",
      "metadata": {
        "id": "pFEpkkzA9MMz",
        "outputId": "335642e3-044f-4bfb-906c-19b8b35a3519",
        "colab": {
          "base_uri": "https://localhost:8080/"
        }
      },
      "source": [
        "class Customer:\n",
        "  def __init__(self, name):\n",
        "    self.name = name\n",
        "\n",
        "  def greet(self, name=None):\n",
        "    if name is None:\n",
        "      print('Hello!')\n",
        "    else:\n",
        "      print('Hello ' + name + '!')\n",
        "\n",
        "  def purchase(self, *products):\n",
        "    print(self.name + ', you purchased ' + str(len(products)) + ' item(s):')\n",
        "    for p in products:\n",
        "      print(p)\n",
        "\n",
        "customer_1 = Customer(\"Sam\")\n",
        "customer_1.greet()\n",
        "customer_1.purchase(\"chips\", \"chocolate\", \"orange juice\")\n",
        "print(\"-----------------------------\")\n",
        "customer_2 = Customer(\"David\")\n",
        "customer_2.greet(\"David\")\n",
        "customer_2.purchase(\"orange juice\")"
      ],
      "execution_count": null,
      "outputs": [
        {
          "output_type": "stream",
          "text": [
            "Hello!\n",
            "Sam, you purchased 3 item(s):\n",
            "chips\n",
            "chocolate\n",
            "orange juice\n",
            "-----------------------------\n",
            "Hello David!\n",
            "David, you purchased 1 item(s):\n",
            "orange juice\n"
          ],
          "name": "stdout"
        }
      ]
    },
    {
      "cell_type": "markdown",
      "metadata": {
        "id": "J38TPt1xqmSi"
      },
      "source": [
        "#Task - 3"
      ]
    },
    {
      "cell_type": "code",
      "metadata": {
        "id": "aMcJSNnxqqMe",
        "outputId": "42a7016e-f68b-426f-8b15-1d3418156150",
        "colab": {
          "base_uri": "https://localhost:8080/"
        }
      },
      "source": [
        "class Panda:\n",
        "  def __init__(self, name, gender, age):\n",
        "    self.name = name\n",
        "    self.gender = gender\n",
        "    self.age = age\n",
        "\n",
        "  def sleep(self, hours=None):\n",
        "    if hours is None:\n",
        "      return self.name + \"'s duration is unknown thus should have only bamboo leaves\"\n",
        "    elif 3 <= hours and hours <= 5:\n",
        "      return self.name + ' sleeps ' + str(hours) + ' hours daily and should have Mixed Veggies'\n",
        "    elif 6 <= hours and hours <= 8:\n",
        "      return self.name + ' sleeps ' + str(hours) + ' hours daily and should have Eggplant & Tofu'\n",
        "    else:\n",
        "      return self.name + ' sleeps ' + str(hours) + ' hours daily and should have Broccoli Chicken'\n",
        "\n",
        "panda1 = Panda(\"Kunfu\",\"Male\", 5)\n",
        "panda2=Panda(\"Pan Pan\",\"Female\",3)\n",
        "panda3=Panda(\"Ming Ming\",\"Female\",8)\n",
        "print(\"{} is a {} Panda Bear who is {} years old\".format(panda1.name,panda1.gender,panda1.age))\n",
        "print(\"{} is a {} Panda Bear who is {} years old\".format(panda2.name,panda2.gender,panda2.age))\n",
        "print(\"{} is a {} Panda Bear who is {} years old\".format(panda3.name,panda3.gender,panda3.age))\n",
        "\n",
        "print(panda2.sleep(10))\n",
        "print(panda1.sleep(4))\n",
        "print(panda3.sleep())"
      ],
      "execution_count": null,
      "outputs": [
        {
          "output_type": "stream",
          "text": [
            "Kunfu is a Male Panda Bear who is 5 years old\n",
            "Pan Pan is a Female Panda Bear who is 3 years old\n",
            "Ming Ming is a Female Panda Bear who is 8 years old\n",
            "Pan Pan sleeps 10 hours daily and should have Broccoli Chicken\n",
            "Kunfu sleeps 4 hours daily and should have Mixed Veggies\n",
            "Ming Ming's duration is unknown thus should have only bamboo leaves\n"
          ],
          "name": "stdout"
        }
      ]
    },
    {
      "cell_type": "markdown",
      "metadata": {
        "id": "Wp_H5gNmqxFt"
      },
      "source": [
        "#Task - 4"
      ]
    },
    {
      "cell_type": "code",
      "metadata": {
        "id": "TkOaeweIqz1l",
        "outputId": "c7eca850-d5b0-44fb-a75c-bbe1604ff357",
        "colab": {
          "base_uri": "https://localhost:8080/"
        }
      },
      "source": [
        "class Cat:\n",
        "  def __init__(self, color='White', action='sitting'):\n",
        "    self.color = color\n",
        "    self.action = action\n",
        "\n",
        "  def printCat(self):\n",
        "    print(self.color + ' cat is ' + self.action)\n",
        "\n",
        "  def changeColor(self, color):\n",
        "    self.color = color\n",
        "\n",
        "c1 = Cat()\n",
        "c2 = Cat(\"Black\")\n",
        "c3 = Cat(\"Brown\", \"jumping\")\n",
        "c4 = Cat(\"Red\", \"purring\")\n",
        "c1.printCat()\n",
        "c2.printCat()\n",
        "c3.printCat()\n",
        "c4.printCat()\n",
        "c1.changeColor(\"Blue\")\n",
        "c3.changeColor(\"Purple\")\n",
        "c1.printCat()\n",
        "c3.printCat()"
      ],
      "execution_count": null,
      "outputs": [
        {
          "output_type": "stream",
          "text": [
            "White cat is sitting\n",
            "Black cat is sitting\n",
            "Brown cat is jumping\n",
            "Red cat is purring\n",
            "Blue cat is sitting\n",
            "Purple cat is jumping\n"
          ],
          "name": "stdout"
        }
      ]
    },
    {
      "cell_type": "markdown",
      "metadata": {
        "id": "emu-TPfHq8YX"
      },
      "source": [
        "#Task - 5"
      ]
    },
    {
      "cell_type": "code",
      "metadata": {
        "id": "y7J63iwgq_jt",
        "outputId": "62e4bd46-cee0-495b-c1b7-43284f02d133",
        "colab": {
          "base_uri": "https://localhost:8080/"
        }
      },
      "source": [
        "class Vehicle:\n",
        "  def __init__(self):\n",
        "    self.x = 0\n",
        "    self.y = 0\n",
        "\n",
        "  def moveUp(self):\n",
        "    self.y += 1\n",
        "  def moveLeft(self):\n",
        "    self.x -= 1\n",
        "  def moveDown(self):\n",
        "    self.y -= 1\n",
        "  def moveRight(self):\n",
        "    self.x += 1\n",
        "\n",
        "  def print_position(self):\n",
        "    print('(' + str(self.x) + ', ' + str(self.y) + ')')\n",
        "\n",
        "car = Vehicle()\n",
        "car.print_position()\n",
        "car.moveUp()\n",
        "car.print_position()\n",
        "car.moveLeft()\n",
        "car.print_position()\n",
        "car.moveDown()\n",
        "car.print_position()\n",
        "car.moveRight()"
      ],
      "execution_count": null,
      "outputs": [
        {
          "output_type": "stream",
          "text": [
            "(0, 0)\n",
            "(0, 1)\n",
            "(-1, 1)\n",
            "(-1, 0)\n"
          ],
          "name": "stdout"
        }
      ]
    },
    {
      "cell_type": "markdown",
      "metadata": {
        "id": "ewWBft-6rRmU"
      },
      "source": [
        "#Task - 6"
      ]
    },
    {
      "cell_type": "code",
      "metadata": {
        "id": "j0Tb14AxrUPe",
        "outputId": "199ebaa3-8017-4c95-8223-05e02b5e3fae",
        "colab": {
          "base_uri": "https://localhost:8080/"
        }
      },
      "source": [
        "class Programmer:\n",
        "  def __init__(self, name, language, experience):\n",
        "    self.name = name\n",
        "    self.language = language\n",
        "    self.experience = experience\n",
        "    print('Horray! A new programmer is born')\n",
        "\n",
        "  def printDetails(self):\n",
        "    print('Name:', self.name)\n",
        "    print('Language:', self.language)\n",
        "    print('Experience:', self.experience)\n",
        "\n",
        "  def addExp(self, added_experience):\n",
        "    print('Updating experience of', self.name)\n",
        "    self.experience += added_experience\n",
        "\n",
        "p1 = Programmer(\"Ethen Hunt\", \"Java\", 10)\n",
        "p1.printDetails()\n",
        "print('--------------------------')\n",
        "p2 = Programmer(\"James Bond\", \"C++\", 7)\n",
        "p2.printDetails()\n",
        "print('--------------------------')\n",
        "p3 = Programmer(\"Jon Snow\", \"Python\", 4)\n",
        "p3.printDetails()\n",
        "p3.addExp(5)\n",
        "p3.printDetails()"
      ],
      "execution_count": null,
      "outputs": [
        {
          "output_type": "stream",
          "text": [
            "Horray! A new programmer is born\n",
            "Name: Ethen Hunt\n",
            "Language: Java\n",
            "Experience: 10\n",
            "--------------------------\n",
            "Horray! A new programmer is born\n",
            "Name: James Bond\n",
            "Language: C++\n",
            "Experience: 7\n",
            "--------------------------\n",
            "Horray! A new programmer is born\n",
            "Name: Jon Snow\n",
            "Language: Python\n",
            "Experience: 4\n",
            "Updating experience of Jon Snow\n",
            "Name: Jon Snow\n",
            "Language: Python\n",
            "Experience: 9\n"
          ],
          "name": "stdout"
        }
      ]
    },
    {
      "cell_type": "markdown",
      "metadata": {
        "id": "bMH7JPI9rc7t"
      },
      "source": [
        "#Task - 7"
      ]
    },
    {
      "cell_type": "code",
      "metadata": {
        "id": "NluLaN5urev-",
        "outputId": "4c92af0c-0094-43b6-c6bb-829a6b422236",
        "colab": {
          "base_uri": "https://localhost:8080/"
        }
      },
      "source": [
        "class Student:\n",
        "  def __init__(self, name, id, dept='CSE'):\n",
        "    self.name = name\n",
        "    self.id = id\n",
        "    self.dept = dept\n",
        "\n",
        "  def dailyEffort(self, time):\n",
        "    self.time = time\n",
        "\n",
        "  def printDetails(self):\n",
        "    print('Name:', self.name)\n",
        "    print('ID:', self.id)\n",
        "    print('Department:', self.dept)\n",
        "    print('Daily Effort: ' + str(self.time) + ' hour(s)')\n",
        "    if self.time <= 2:\n",
        "      print('Suggestion: Should give more effort!')\n",
        "    elif self.time <= 4:\n",
        "       print('Suggestion: Keep up the good work!')\n",
        "    else:\n",
        "       print('Suggestion: Excellent! Now motivate others.')\n",
        "\n",
        "harry = Student('Harry Potter', 123)\n",
        "harry.dailyEffort(3)\n",
        "harry.printDetails()\n",
        "print('========================')\n",
        "john = Student(\"John Wick\", 456, \"BBA\")\n",
        "john.dailyEffort(2)\n",
        "john.printDetails()\n",
        "print('========================')\n",
        "naruto = Student(\"Naruto Uzumaki\", 777, \"Ninja\")\n",
        "naruto.dailyEffort(6)\n",
        "naruto.printDetails()"
      ],
      "execution_count": null,
      "outputs": [
        {
          "output_type": "stream",
          "text": [
            "Name: Harry Potter\n",
            "ID: 123\n",
            "Department: CSE\n",
            "Daily Effort: 3 hour(s)\n",
            "Suggestion: Keep up the good work!\n",
            "========================\n",
            "Name: John Wick\n",
            "ID: 456\n",
            "Department: BBA\n",
            "Daily Effort: 2 hour(s)\n",
            "Suggestion: Should give more effort!\n",
            "========================\n",
            "Name: Naruto Uzumaki\n",
            "ID: 777\n",
            "Department: Ninja\n",
            "Daily Effort: 6 hour(s)\n",
            "Suggestion: Excellent! Now motivate others.\n"
          ],
          "name": "stdout"
        }
      ]
    },
    {
      "cell_type": "markdown",
      "metadata": {
        "id": "9qIxE3Purlov"
      },
      "source": [
        "#Task - 8"
      ]
    },
    {
      "cell_type": "code",
      "metadata": {
        "id": "pfwI7BpsroC9",
        "outputId": "61e12e20-85c1-4a06-f822-5bd784467cd1",
        "colab": {
          "base_uri": "https://localhost:8080/"
        }
      },
      "source": [
        "class Patient:\n",
        "  def __init__(self, name, age):\n",
        "    self.name = name\n",
        "    self.age = age\n",
        "\n",
        "  def add_Symptom(self, *symptoms):\n",
        "    self.symptoms = list(symptoms)\n",
        "\n",
        "  def printPatientDetail(self):\n",
        "    print('Name:', self.name)\n",
        "    print('Age:', self.age)\n",
        "    s = 'Symptoms: '\n",
        "    i = 0\n",
        "    for sy in self.symptoms:\n",
        "      s += sy\n",
        "      if i != len(self.symptoms) - 1:\n",
        "        s += ', '\n",
        "      i += 1\n",
        "\n",
        "    print(s)\n",
        "\n",
        "p1 = Patient('Thomas', 23)\n",
        "p1.add_Symptom('Headache')\n",
        "p2 = Patient('Carol', 20)\n",
        "p2.add_Symptom('Vomiting', 'Coughing')\n",
        "p3 = Patient('Mike', 25)\n",
        "p3.add_Symptom('Fever', 'Headache', 'Coughing')\n",
        "print(\"=========================\")\n",
        "p1.printPatientDetail()\n",
        "print(\"=========================\")\n",
        "p2.printPatientDetail()\n",
        "print(\"=========================\")\n",
        "p3.printPatientDetail()\n",
        "print(\"=========================\")"
      ],
      "execution_count": null,
      "outputs": [
        {
          "output_type": "stream",
          "text": [
            "=========================\n",
            "Name: Thomas\n",
            "Age: 23\n",
            "Symptoms: Headache\n",
            "=========================\n",
            "Name: Carol\n",
            "Age: 20\n",
            "Symptoms: Vomiting, Coughing\n",
            "=========================\n",
            "Name: Mike\n",
            "Age: 25\n",
            "Symptoms: Fever, Headache, Coughing\n",
            "=========================\n"
          ],
          "name": "stdout"
        }
      ]
    },
    {
      "cell_type": "markdown",
      "metadata": {
        "id": "0Bed-z1Uruq2"
      },
      "source": [
        "#Task - 9"
      ]
    },
    {
      "cell_type": "code",
      "metadata": {
        "id": "Cq8bSspPrxSW",
        "outputId": "8c9bebf4-dd65-473c-8727-7f81655bb76a",
        "colab": {
          "base_uri": "https://localhost:8080/"
        }
      },
      "source": [
        "class Avengers:\n",
        "  def __init__(self, name, partner):\n",
        "    self.name = name\n",
        "    self.partner = partner\n",
        "\n",
        "  def super_powers(self, *powers):\n",
        "    self.powers = list(powers)\n",
        "\n",
        "  def printAvengersDetail(self):\n",
        "    print('Name:', self.name)\n",
        "    print('Partner:', self.partner)\n",
        "    s = 'Super powers: '\n",
        "    i = 0\n",
        "    for sp in self.powers:\n",
        "      s += sp\n",
        "      if i != len(self.powers) - 1:\n",
        "        s += ', '\n",
        "      i += 1\n",
        "    print(s)\n",
        "\n",
        "a1 = Avengers('Captain America', 'Bucky Barnes')\n",
        "a1.super_powers('Stamina', 'Slowed ageing')\n",
        "a2 = Avengers('Doctor Strange', 'Ancient One')\n",
        "a2.super_powers('Mastery of magic')\n",
        "a3 = Avengers('Iron Man', 'War Machine')\n",
        "a3.super_powers('Genius level intellect', 'Scientist ')\n",
        "print(\"=========================\")\n",
        "a1.printAvengersDetail()\n",
        "print(\"=========================\")\n",
        "a2.printAvengersDetail()\n",
        "print(\"=========================\")\n",
        "a3.printAvengersDetail()\n",
        "print(\"=========================\")"
      ],
      "execution_count": null,
      "outputs": [
        {
          "output_type": "stream",
          "text": [
            "=========================\n",
            "Name: Captain America\n",
            "Partner: Bucky Barnes\n",
            "Super powers: Stamina, Slowed ageing\n",
            "=========================\n",
            "Name: Doctor Strange\n",
            "Partner: Ancient One\n",
            "Super powers: Mastery of magic\n",
            "=========================\n",
            "Name: Iron Man\n",
            "Partner: War Machine\n",
            "Super powers: Genius level intellect, Scientist \n",
            "=========================\n"
          ],
          "name": "stdout"
        }
      ]
    },
    {
      "cell_type": "markdown",
      "metadata": {
        "id": "JaNpS6PRr6qd"
      },
      "source": [
        "#Task - 10"
      ]
    },
    {
      "cell_type": "code",
      "metadata": {
        "id": "uhEAra6Pr8e9",
        "outputId": "3d390a88-e3d9-4772-a869-485cf3975463",
        "colab": {
          "base_uri": "https://localhost:8080/"
        }
      },
      "source": [
        "class Shinobi:\n",
        "  def __init__(self, name, rank):\n",
        "    self.name = name\n",
        "    self.rank = rank\n",
        "    self.salary = 0\n",
        "    self.mission = 0\n",
        "\n",
        "  def changeRank(self, rank):\n",
        "    self.rank = rank\n",
        "\n",
        "  def calSalary(self, mission):\n",
        "    self.mission = mission\n",
        "    if self.rank == 'Genin':\n",
        "      self.salary = mission * 50\n",
        "    elif self.rank == 'Chunin':\n",
        "      self.salary = mission * 100\n",
        "    else:\n",
        "      self.salary = mission * 500\n",
        "\n",
        "  def printInfo(self):\n",
        "    print('Name:', self.name)\n",
        "    print('Rank:', self.rank)\n",
        "    print('Number of mission:', self.mission)\n",
        "    print('Salary:', self.salary)\n",
        "\n",
        "naruto = Shinobi(\"Naruto\", \"Genin\")\n",
        "naruto.calSalary(5)\n",
        "naruto.printInfo()\n",
        "print('====================')\n",
        "shikamaru = Shinobi('Shikamaru', \"Genin\")\n",
        "shikamaru.printInfo()\n",
        "shikamaru.changeRank(\"Chunin\")\n",
        "shikamaru.calSalary(10)\n",
        "shikamaru.printInfo()\n",
        "print('====================')\n",
        "neiji = Shinobi(\"Neiji\", \"Jonin\")\n",
        "neiji.calSalary(5)\n",
        "neiji.printInfo()"
      ],
      "execution_count": null,
      "outputs": [
        {
          "output_type": "stream",
          "text": [
            "Name: Naruto\n",
            "Rank: Genin\n",
            "Number of mission: 5\n",
            "Salary: 250\n",
            "====================\n",
            "Name: Shikamaru\n",
            "Rank: Genin\n",
            "Number of mission: 0\n",
            "Salary: 0\n",
            "Name: Shikamaru\n",
            "Rank: Chunin\n",
            "Number of mission: 10\n",
            "Salary: 1000\n",
            "====================\n",
            "Name: Neiji\n",
            "Rank: Jonin\n",
            "Number of mission: 5\n",
            "Salary: 2500\n"
          ],
          "name": "stdout"
        }
      ]
    }
  ]
}
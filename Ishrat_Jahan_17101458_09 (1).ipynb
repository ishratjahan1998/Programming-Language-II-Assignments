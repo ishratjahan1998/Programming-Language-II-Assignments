{
  "nbformat": 4,
  "nbformat_minor": 0,
  "metadata": {
    "colab": {
      "provenance": []
    },
    "kernelspec": {
      "name": "python3",
      "display_name": "Python 3"
    }
  },
  "cells": [
    {
      "cell_type": "markdown",
      "metadata": {
        "id": "gHGPTiJGhGcG"
      },
      "source": [
        "#Question 2"
      ]
    },
    {
      "cell_type": "code",
      "metadata": {
        "colab": {
          "base_uri": "https://localhost:8080/"
        },
        "id": "mmAGu-SqhLwg",
        "outputId": "d02411f0-50d5-409f-b59c-b52829f2a533"
      },
      "source": [
        "class Bird:\n",
        "  def __init__(self, name, can_fly=False, t='Flightless Birds'):\n",
        "    self.name = name\n",
        "    self.can_fly = can_fly\n",
        "    self.t = t\n",
        "\n",
        "\n",
        "  def fly(self):\n",
        "    if self.can_fly:\n",
        "      print(self.name + ' can fly')\n",
        "    else:\n",
        "      print(self.name + ' can not fly')\n",
        "\n",
        "  def setType(self, t):\n",
        "    self.t = t\n",
        "\n",
        "  def printDetail(self):\n",
        "    print('Name:', self.name)\n",
        "    print('Type:', self.t)\n",
        "\n",
        "ostrich = Bird('Ostrich')\n",
        "duck = Bird(\"Duck\", True)\n",
        "owl = Bird('Owl', True)\n",
        "print('###########################')\n",
        "ostrich.fly()\n",
        "duck.fly()\n",
        "owl.fly()\n",
        "duck.setType('Water Birds')\n",
        "owl.setType('Birds of Prey')\n",
        "print('=========================')\n",
        "ostrich.printDetail()\n",
        "print('=========================')\n",
        "duck.printDetail()\n",
        "print('=========================')\n",
        "owl.printDetail()\n"
      ],
      "execution_count": null,
      "outputs": [
        {
          "output_type": "stream",
          "text": [
            "###########################\n",
            "Ostrich can not fly\n",
            "Duck can fly\n",
            "Owl can fly\n",
            "=========================\n",
            "Name: Ostrich\n",
            "Type: Flightless Birds\n",
            "=========================\n",
            "Name: Duck\n",
            "Type: Water Birds\n",
            "=========================\n",
            "Name: Owl\n",
            "Type: Birds of Prey\n"
          ],
          "name": "stdout"
        }
      ]
    },
    {
      "cell_type": "markdown",
      "metadata": {
        "id": "O4VrQaIMqGl6"
      },
      "source": [
        "#Question 1"
      ]
    },
    {
      "cell_type": "code",
      "metadata": {
        "colab": {
          "base_uri": "https://localhost:8080/"
        },
        "id": "PjF4kSm2qLsA",
        "outputId": "4e27c40d-cf87-4dad-cf24-10edd9b8ab91"
      },
      "source": [
        "N = int(input())\n",
        "dic = {}\n",
        "for i in range(0, N):\n",
        "  user = ''\n",
        "  domain = ''\n",
        "  at_found = 0\n",
        "  dot_found = 0\n",
        "  email = input()\n",
        "\n",
        "  for c in email:\n",
        "    if c == '@':\n",
        "      at_found = 1\n",
        "      continue\n",
        "    elif c == '.':\n",
        "      dot_found = 1\n",
        "      continue\n",
        "\n",
        "    if at_found == 0:\n",
        "      user += c\n",
        "    elif at_found == 1 and dot_found == 0:\n",
        "      domain += c\n",
        "\n",
        "  if domain in dic.keys():\n",
        "    dic[domain].append(user)\n",
        "  else:\n",
        "    dic[domain] = [user]\n",
        "\n",
        "print(dic)\n"
      ],
      "execution_count": null,
      "outputs": [
        {
          "output_type": "stream",
          "text": [
            "5\n",
            "bob@intel.com\n",
            "carol@amd.com\n",
            "mike@intel.com\n",
            "jon@nvidia.com\n",
            "alice@nvidia.com\n",
            "{'intel': ['bob', 'mike'], 'amd': ['carol'], 'nvidia': ['jon', 'alice']}\n"
          ],
          "name": "stdout"
        }
      ]
    }
  ]
}
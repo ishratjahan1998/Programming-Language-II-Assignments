{
  "nbformat": 4,
  "nbformat_minor": 0,
  "metadata": {
    "colab": {
      "provenance": []
    },
    "kernelspec": {
      "name": "python3",
      "display_name": "Python 3"
    }
  },
  "cells": [
    {
      "cell_type": "markdown",
      "metadata": {
        "id": "fMD2G72_cfJo"
      },
      "source": [
        "# Q1"
      ]
    },
    {
      "cell_type": "code",
      "metadata": {
        "colab": {
          "base_uri": "https://localhost:8080/"
        },
        "id": "2YS0dZamcey6",
        "outputId": "e6477418-8ca0-405b-d034-6d3f5fbf23a5"
      },
      "source": [
        "points = {}\n",
        "\n",
        "first_player = ''\n",
        "first_point = -10000\n",
        "second_player = ''\n",
        "second_point = -10000\n",
        "third_player = ''\n",
        "third_point = -10000\n",
        "\n",
        "\n",
        "for i in range(10):\n",
        "  s = input().split()\n",
        "  point = int(s[2])*2 + int(s[4])*1 + int(s[5])*2 + int(s[6])*3 + int(s[7])*1\n",
        "  points[s[1]] = point\n",
        "\n",
        "for name in points.keys():\n",
        "  point = points[name]\n",
        "  if point > first_point:\n",
        "    third_point = second_point\n",
        "    third_player = second_player\n",
        "    second_point = first_point\n",
        "    second_player = first_player\n",
        "    first_point = point\n",
        "    first_player = name\n",
        "\n",
        "  elif point > second_point:\n",
        "    third_point = second_point\n",
        "    third_player = second_player\n",
        "    second_point = point\n",
        "    second_player = name\n",
        "  elif point > third_point:\n",
        "    third_point = point\n",
        "    third_player = name\n",
        "\n",
        "print('First:', first_player)\n",
        "print('Second:', second_player)\n",
        "print('Third:', third_player)\n",
        "\n",
        "\n"
      ],
      "execution_count": null,
      "outputs": [
        {
          "output_type": "stream",
          "text": [
            "NaVi flamie 23 13 3 2 2 0\n",
            "Fnatic Xizt 15 20 3 2 0 2\n",
            "Fnatic KRIMZ 12 23 9 2 2 1\n",
            "Navi electronic 24 13 5 2 2 0\n",
            "Navi Zeus 14 22 12 2 2 0\n",
            "Navi Edward 20 18 8 1 1 1\n",
            "Fnatic JW 13 24 5 3 0 0\n",
            "Navi s1mple 26 13 6 3 2 1\n",
            "Fnatic twist 25 20 4 2 3 2\n",
            "Fnatic Brollan 14 20 3 2 1 0\n",
            "First: s1mple\n",
            "Second: twist\n",
            "Third: electronic\n"
          ],
          "name": "stdout"
        }
      ]
    },
    {
      "cell_type": "markdown",
      "metadata": {
        "id": "_avSwSl3QFmS"
      },
      "source": [
        "# Q2"
      ]
    },
    {
      "cell_type": "code",
      "metadata": {
        "id": "aSxS3xtr55XS",
        "colab": {
          "base_uri": "https://localhost:8080/"
        },
        "outputId": "f4a715e7-c29d-4c38-e6b5-5956870a4e27"
      },
      "source": [
        "# Write your codes here.\n",
        "class Smartphone:\n",
        "  totalPhones = 0\n",
        "\n",
        "  def __init__(self, name=None):\n",
        "    self.name = name\n",
        "    self.features = {}\n",
        "    Smartphone.totalPhones += 1\n",
        "\n",
        "  def addFeature(self, feature_name, feature_val):\n",
        "    if self.name is None:\n",
        "      print('Feature can not be added without phone name')\n",
        "    else:\n",
        "      self.features[feature_name] = feature_val\n",
        "\n",
        "  def setName(self, name):\n",
        "    self.name = name\n",
        "\n",
        "  def printDetail(self):\n",
        "    print('Phone Name: ' + self.name)\n",
        "    for k in self.features.keys():\n",
        "      print(k + ': ' + self.features[k])\n",
        "\n",
        "\n",
        "# Do not change the following lines of code.\n",
        "print(\"Total Phones: \", Smartphone.totalPhones)\n",
        "print(\"=================================\")\n",
        "s1 = Smartphone()\n",
        "print(\"=================================\")\n",
        "s1.addFeature(\"Display\", \"6.1 inch\")\n",
        "print(\"=================================\")\n",
        "s1.setName(\"Samsung Note 20\")\n",
        "s1.addFeature(\"Display\", \"6.1 inch\")\n",
        "s1.printDetail()\n",
        "print(\"=================================\")\n",
        "s2 = Smartphone(\"Iphone 12 Pro\")\n",
        "s2.addFeature(\"Display\", \"6.2 inch\")\n",
        "s2.addFeature(\"Ram\", \"6 GB\")\n",
        "print(\"=================================\")\n",
        "s2.printDetail()\n",
        "s2.addFeature(\"Rom\", \"128 GB\")\n",
        "print(\"=================================\")\n",
        "s2.printDetail()\n",
        "print(\"=================================\")\n",
        "print(\"Total Phones: \", Smartphone.totalPhones)\n"
      ],
      "execution_count": null,
      "outputs": [
        {
          "output_type": "stream",
          "text": [
            "Total Phones:  0\n",
            "=================================\n",
            "=================================\n",
            "Feature can not be added without phone name\n",
            "=================================\n",
            "Phone Name: Samsung Note 20\n",
            "Display: 6.1 inch\n",
            "=================================\n",
            "=================================\n",
            "Phone Name: Iphone 12 Pro\n",
            "Display: 6.2 inch\n",
            "Ram: 6 GB\n",
            "=================================\n",
            "Phone Name: Iphone 12 Pro\n",
            "Display: 6.2 inch\n",
            "Ram: 6 GB\n",
            "Rom: 128 GB\n",
            "=================================\n",
            "Total Phones:  2\n"
          ],
          "name": "stdout"
        }
      ]
    },
    {
      "cell_type": "markdown",
      "metadata": {
        "id": "VvWr_sVOVOx1"
      },
      "source": [
        "# Q3"
      ]
    },
    {
      "cell_type": "code",
      "metadata": {
        "id": "g-NqyYHsVQH7"
      },
      "source": [
        "class Student:\n",
        "     def __init__(self,name,ID):\n",
        "         self.name = name\n",
        "         self.ID = ID\n",
        "     def Details(self):\n",
        "         return \"Name: \"+self.name+\"\\n\"+\"ID: \"+self.ID+\"\\n\"\n",
        "\n",
        "#Write your code here\n",
        "\n",
        "class CSEStudent(Student):\n",
        "  def __init__(self, name, ID, semester):\n",
        "    super().__init__(name, ID)\n",
        "    self.semester = semester\n",
        "    self.course_marks = {}\n",
        "\n",
        "  def Details(self):\n",
        "    return super().Details() + 'Current semester: ' + self.semester\n",
        "\n",
        "  def addCourseWithMarks(self, *course_marks):\n",
        "    for i in range(0, len(course_marks), 2):\n",
        "      self.course_marks[course_marks[i]] = course_marks[i + 1]\n",
        "\n",
        "  def showGPA(self):\n",
        "    gpa = 0\n",
        "    print(self.name + ' has taken ' + str(len(self.course_marks.keys())) + ' courses.')\n",
        "    for k in self.course_marks.keys():\n",
        "      if self.course_marks[k] >= 85:\n",
        "        print(k + \": 4.0\")\n",
        "        gpa += 4\n",
        "      elif self.course_marks[k] >= 80 and self.course_marks[k] <= 84:\n",
        "        print(k + \": 3.3\")\n",
        "        gpa += 3.3\n",
        "      elif self.course_marks[k] >= 70 and self.course_marks[k] <= 79:\n",
        "        print(k + \": 3.0\")\n",
        "        gpa += 3.0\n",
        "      elif self.course_marks[k] >= 65 and self.course_marks[k] <= 69:\n",
        "        print(k + \": 2.3\")\n",
        "        gpa += 2.3\n",
        "      elif self.course_marks[k] >= 57 and self.course_marks[k] <= 64:\n",
        "        print(k + \": 2.0\")\n",
        "        gpa += 2.0\n",
        "      elif self.course_marks[k] >= 55 and self.course_marks[k] <= 56:\n",
        "        print(k + \": 1.3\")\n",
        "        gpa += 1.3\n",
        "      elif self.course_marks[k] >= 50 and self.course_marks[k] <= 54:\n",
        "        print(k + \": 1.0\")\n",
        "        gpa += 1.0\n",
        "      else:\n",
        "        print(k + \": 0.0\")\n",
        "        gpa += 0\n",
        "    total_credit = len(self.course_marks.keys())*3\n",
        "    gpa = (gpa*3)/total_credit\n",
        "    print('GPA of ' + self.name + ' is %.2f' % gpa)\n",
        "\n",
        "\n",
        "Bob = CSEStudent(\"Bob\",\"20301018\",\"Fall 2020\")\n",
        "Carol = CSEStudent(\"Carol\",\"16301814\",\"Fall 2020\")\n",
        "Anny = CSEStudent(\"Anny\",\"18201234\",\"Fall 2020\")\n",
        "print(\"############################\")\n",
        "print(Bob.Details())\n",
        "print(\"############################\")\n",
        "print(Carol.Details())\n",
        "print(\"############################\")\n",
        "print(Anny.Details())\n",
        "print(\"############################\")\n",
        "Bob.addCourseWithMarks(\"CSE111\",83.5,\"CSE230\",73.0,\"CSE260\",92.5)\n",
        "Carol.addCourseWithMarks(\"CSE470\",62.5,\"CSE422\",69.0,\"CSE460\",76.5,\"CSE461\",87.0)\n",
        "Anny.addCourseWithMarks(\"CSE340\",45.5,\"CSE321\",95.0,\"CSE370\",91.0)\n",
        "print(\"----------------------------\")\n",
        "Bob.showGPA()\n",
        "print(\"----------------------------\")\n",
        "Carol.showGPA()\n",
        "print(\"----------------------------\")\n",
        "Anny.showGPA()"
      ],
      "execution_count": null,
      "outputs": []
    },
    {
      "cell_type": "code",
      "metadata": {
        "colab": {
          "base_uri": "https://localhost:8080/"
        },
        "id": "esZnCU58hkhV",
        "outputId": "2ea76c7e-a0fe-4235-be67-500e242fdcb7"
      },
      "source": [
        "a = 10\n",
        "b = 20\n",
        "\n",
        "temp = a\n",
        "a = b\n",
        "b = temp\n",
        "\n",
        "print(a)\n",
        "print(b)"
      ],
      "execution_count": null,
      "outputs": [
        {
          "output_type": "stream",
          "text": [
            "20\n",
            "10\n"
          ],
          "name": "stdout"
        }
      ]
    }
  ]
}
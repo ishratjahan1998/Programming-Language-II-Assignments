{
  "nbformat": 4,
  "nbformat_minor": 0,
  "metadata": {
    "colab": {
      "provenance": []
    },
    "kernelspec": {
      "name": "python3",
      "display_name": "Python 3"
    }
  },
  "cells": [
    {
      "cell_type": "markdown",
      "metadata": {
        "id": "bZV7ZD4UjkIa"
      },
      "source": [
        "#Problem - 1"
      ]
    },
    {
      "cell_type": "code",
      "metadata": {
        "id": "ejPBCwIejsvx",
        "outputId": "018bc634-6f22-456c-9c69-eee1a258c363",
        "colab": {
          "base_uri": "https://localhost:8080/"
        }
      },
      "source": [
        "def fraction(a, b):\n",
        "  if b == 0:\n",
        "    return 0\n",
        "  x = a / b\n",
        "  y = a // b\n",
        "  z = x - y\n",
        "  return z\n",
        "m = int(input())\n",
        "n = int(input())\n",
        "result = fraction(m, n)\n",
        "print(result)"
      ],
      "execution_count": null,
      "outputs": [
        {
          "output_type": "stream",
          "text": [
            "0\n",
            "5\n",
            "0.0\n"
          ],
          "name": "stdout"
        }
      ]
    },
    {
      "cell_type": "markdown",
      "metadata": {
        "id": "550uBQs3mO5f"
      },
      "source": [
        "#Problem - 2"
      ]
    },
    {
      "cell_type": "code",
      "metadata": {
        "id": "vyYIr2GUmRim",
        "outputId": "8419fba0-16df-42b5-a929-4354cc8c5c21",
        "colab": {
          "base_uri": "https://localhost:8080/"
        }
      },
      "source": [
        "def BMI(weight, height):\n",
        "  height /= 100\n",
        "  bmi = weight / (height ** 2)\n",
        "  if bmi < 18.5:\n",
        "    print('Score is ' + str(bmi) + '. You are Underweight')\n",
        "  elif 18.5 <= bmi and bmi < 25:\n",
        "    print('Score is ' + str(bmi) + '. You are Normal')\n",
        "  elif 25 <= bmi and bmi <= 30:\n",
        "    print('Score is ' + str(bmi) + '. You are Overweight')\n",
        "  else:\n",
        "    print('Score is ' + str(bmi) + '. You are Obese')\n",
        "h = int(input())\n",
        "w = int(input())\n",
        "BMI(w, h)\n"
      ],
      "execution_count": null,
      "outputs": [
        {
          "output_type": "stream",
          "text": [
            "152\n",
            "48\n",
            "Score is 20.775623268698062. You are Normal\n"
          ],
          "name": "stdout"
        }
      ]
    },
    {
      "cell_type": "markdown",
      "metadata": {
        "id": "VS3wdREbpQGJ"
      },
      "source": [
        "#Problem - 3"
      ]
    },
    {
      "cell_type": "code",
      "metadata": {
        "id": "2a4E_HaWpTtX",
        "outputId": "94cdeb2c-cfbd-4377-b69a-0086e7c45358",
        "colab": {
          "base_uri": "https://localhost:8080/"
        }
      },
      "source": [
        "def func(minimum, maximum, divisor):\n",
        "  count = minimum\n",
        "  sum = 0\n",
        "  while count < maximum:\n",
        "    if count % divisor == 0:\n",
        "      sum += count\n",
        "    count += 1\n",
        "  return sum\n",
        "\n",
        "m1 = int(input())\n",
        "m2 = int(input())\n",
        "d = int(input())\n",
        "result = func(m1, m2, d)\n",
        "print(result)"
      ],
      "execution_count": null,
      "outputs": [
        {
          "output_type": "stream",
          "text": [
            "3\n",
            "16\n",
            "3\n",
            "45\n"
          ],
          "name": "stdout"
        }
      ]
    },
    {
      "cell_type": "markdown",
      "metadata": {
        "id": "BsgD2qUGuVLG"
      },
      "source": [
        "#Problem - 4"
      ]
    },
    {
      "cell_type": "code",
      "metadata": {
        "id": "yhPwwrt7uZMi",
        "outputId": "7edf8ed0-eeae-4b41-e8bf-b67373a022f8",
        "colab": {
          "base_uri": "https://localhost:8080/"
        }
      },
      "source": [
        "def order(burger, place='Mohakhali'):\n",
        "  if burger == 'BBQ Chicken Cheese Burger':\n",
        "    meal_cost = 250\n",
        "  elif burger == 'Beef Burger':\n",
        "    meal_cost = 170\n",
        "  else:\n",
        "    meal_cost = 200\n",
        "\n",
        "  tax = meal_cost * 0.08\n",
        "  if place == 'Mohakhali':\n",
        "    delivery_charge = 40\n",
        "  else:\n",
        "    delivery_charge = 60\n",
        "\n",
        "  total_price = meal_cost + delivery_charge + tax\n",
        "  return total_price\n",
        "\n",
        "print(order('Beef Burger', 'Dhanmondi'))\n",
        "print(order('Beef Burger'))\n"
      ],
      "execution_count": null,
      "outputs": [
        {
          "output_type": "stream",
          "text": [
            "243.6\n",
            "223.6\n"
          ],
          "name": "stdout"
        }
      ]
    },
    {
      "cell_type": "markdown",
      "metadata": {
        "id": "emMUENcXz3fH"
      },
      "source": [
        "#Problem - 6"
      ]
    },
    {
      "cell_type": "code",
      "metadata": {
        "id": "q0W8078yz7kP",
        "outputId": "04158f89-3279-49f0-e364-5dd149a4991c",
        "colab": {
          "base_uri": "https://localhost:8080/"
        }
      },
      "source": [
        "def func(full_name):\n",
        "  vowels = ['a', 'e', 'i', 'o', 'u', 'A', 'E', 'I', 'O', 'U']\n",
        "  v = []\n",
        "  count = 0\n",
        "\n",
        "  for char in full_name:\n",
        "    if char in vowels:\n",
        "      v.append(char)\n",
        "      count += 1\n",
        "  return v, count\n",
        "\n",
        "n = input()\n",
        "x, y = func(n)\n",
        "if y == 0:\n",
        "  print('No vowels in the name!.')\n",
        "else:\n",
        "  print('Vowels: ' + str(x) + '. Total number of vowels: ' + str(y))\n",
        "\n"
      ],
      "execution_count": null,
      "outputs": [
        {
          "output_type": "stream",
          "text": [
            "XXYZ\n",
            "No vowels in the name!.\n"
          ],
          "name": "stdout"
        }
      ]
    },
    {
      "cell_type": "markdown",
      "metadata": {
        "id": "pOhgVoU84KsO"
      },
      "source": [
        "#Problem - 7"
      ]
    },
    {
      "cell_type": "code",
      "metadata": {
        "id": "y9dQs6io4OUN"
      },
      "source": [],
      "execution_count": null,
      "outputs": []
    }
  ]
}
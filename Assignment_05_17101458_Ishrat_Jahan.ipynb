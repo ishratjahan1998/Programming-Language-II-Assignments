{
  "nbformat": 4,
  "nbformat_minor": 0,
  "metadata": {
    "colab": {
      "provenance": []
    },
    "kernelspec": {
      "name": "python3",
      "display_name": "Python 3"
    }
  },
  "cells": [
    {
      "cell_type": "markdown",
      "metadata": {
        "id": "EQlGypmGOwMw"
      },
      "source": [
        "#Task - 1"
      ]
    },
    {
      "cell_type": "code",
      "metadata": {
        "colab": {
          "base_uri": "https://localhost:8080/"
        },
        "id": "bxEPcdmnOr0_",
        "outputId": "214a273b-36d6-4c15-cdb3-f9ae6c7e44b4"
      },
      "source": [
        "class Marks:\n",
        "  def __init__(self, mark):\n",
        "    self.mark = mark\n",
        "\n",
        "  def __add__(self, other):\n",
        "    mark = self.mark + other.mark\n",
        "    return Marks(mark)\n",
        "\n",
        "Q1 = Marks(int(input(\"Quiz 1 (out of 10): \")))\n",
        "Q2 = Marks(int(input(\"Quiz 2 (out of 10): \")))\n",
        "Lab = Marks(int(input(\"Lab (out of 30): \")))\n",
        "Mid = Marks(int(input(\"Mid (out of 20): \")))\n",
        "Final = Marks(int(input(\"Final (out of 30): \")))\n",
        "total = Q1 + Q2 + Lab + Mid + Final\n",
        "print(\"Total marks: {}\".format(total.mark))"
      ],
      "execution_count": null,
      "outputs": [
        {
          "output_type": "stream",
          "text": [
            "Quiz 1 (out of 10): 10\n",
            "Quiz 2 (out of 10): 8\n",
            "Lab (out of 30): 30\n",
            "Mid (out of 20): 20\n",
            "Final (out of 30): 29\n",
            "Total marks: 97\n"
          ],
          "name": "stdout"
        }
      ]
    },
    {
      "cell_type": "markdown",
      "metadata": {
        "id": "nN84oQVxR3zG"
      },
      "source": [
        "#Task - 2"
      ]
    },
    {
      "cell_type": "code",
      "metadata": {
        "colab": {
          "base_uri": "https://localhost:8080/"
        },
        "id": "jSaB0_FYSCgl",
        "outputId": "71544279-84f0-4ce3-f23f-5452234e90ad"
      },
      "source": [
        "class Teacher:\n",
        "  def __init__(self, name, department):\n",
        "    self.__name = name\n",
        "    self.__department = department\n",
        "    self.__courses = []\n",
        "\n",
        "\n",
        "  def addCourse(self, course):\n",
        "    self.__courses.append(course)\n",
        "    return self.__courses\n",
        "\n",
        "  def printDetail(self):\n",
        "    print('====================================')\n",
        "    print('Name: ', self.__name)\n",
        "    print('Department: ', self.__department)\n",
        "    print('List of Courses')\n",
        "    print('====================================')\n",
        "\n",
        "    for c in self.__courses:\n",
        "      print(c.course)\n",
        "    print('====================================')\n",
        "\n",
        "class Course():\n",
        "  def __init__(self, course):\n",
        "    self.course = course\n",
        "\n",
        "\n",
        "t1 = Teacher(\"Saad Abdullah\", \"CSE\")\n",
        "t2 = Teacher(\"Mumit Khan\", \"CSE\")\n",
        "t3 = Teacher(\"Sadia Kazi\", \"CSE\")\n",
        "c1 = Course(\"CSE 110 Programming Language I\")\n",
        "c2 = Course(\"CSE 111 Programming Language-II\")\n",
        "c3 = Course(\"CSE 220 Data Structures\")\n",
        "c4 = Course(\"CSE 221 Algorithms\")\n",
        "c5 = Course(\"CCSE 230 Discrete Mathematics\")\n",
        "c6 = Course(\"CSE 310 Object Oriented Programming\")\n",
        "c7 = Course(\"CSE 320 Data Communications\")\n",
        "c8 = Course(\"CSE 340 Computer Architecture\")\n",
        "t1.addCourse(c1)\n",
        "t1.addCourse(c2)\n",
        "t2.addCourse(c3)\n",
        "t2.addCourse(c4)\n",
        "t2.addCourse(c5)\n",
        "t3.addCourse(c6)\n",
        "t3.addCourse(c7)\n",
        "t3.addCourse(c8)\n",
        "t1.printDetail()\n",
        "t2.printDetail()\n",
        "t3.printDetail()"
      ],
      "execution_count": null,
      "outputs": [
        {
          "output_type": "stream",
          "text": [
            "====================================\n",
            "Name:  Saad Abdullah\n",
            "Department:  CSE\n",
            "List of Courses\n",
            "====================================\n",
            "CSE 110 Programming Language I\n",
            "CSE 111 Programming Language-II\n",
            "====================================\n",
            "====================================\n",
            "Name:  Mumit Khan\n",
            "Department:  CSE\n",
            "List of Courses\n",
            "====================================\n",
            "CSE 220 Data Structures\n",
            "CSE 221 Algorithms\n",
            "CCSE 230 Discrete Mathematics\n",
            "====================================\n",
            "====================================\n",
            "Name:  Sadia Kazi\n",
            "Department:  CSE\n",
            "List of Courses\n",
            "====================================\n",
            "CSE 310 Object Oriented Programming\n",
            "CSE 320 Data Communications\n",
            "CSE 340 Computer Architecture\n",
            "====================================\n"
          ],
          "name": "stdout"
        }
      ]
    },
    {
      "cell_type": "markdown",
      "metadata": {
        "id": "KkqDnuhydU3q"
      },
      "source": [
        "#Task - 3"
      ]
    },
    {
      "cell_type": "code",
      "metadata": {
        "colab": {
          "base_uri": "https://localhost:8080/"
        },
        "id": "Hryu499FdXNI",
        "outputId": "b6da3dc0-6459-4cac-f5af-e23f802aecb2"
      },
      "source": [
        "class Team:\n",
        "  def __init__(self, name=\"\"):\n",
        "    self.__players = []\n",
        "    self.__name = name\n",
        "\n",
        "  def setName(self, name):\n",
        "    self.__name = name\n",
        "\n",
        "  def addPlayer(self, player):\n",
        "    self.__players.append(player.name)\n",
        "\n",
        "  def printDetail(self):\n",
        "     print('====================================')\n",
        "     print('Team:', self.__name)\n",
        "     print('List of players:')\n",
        "\n",
        "     print(self.__players)\n",
        "     print('====================================')\n",
        "\n",
        "\n",
        "\n",
        "\n",
        "class Player:\n",
        "  def __init__(self, name):\n",
        "    self.name = name\n",
        "\n",
        "b = Team()\n",
        "b.setName('Bangladesh')\n",
        "mashrafi = Player(\"Mashrafi\")\n",
        "b.addPlayer(mashrafi)\n",
        "tamim = Player(\"Tamim\")\n",
        "b.addPlayer(tamim)\n",
        "b.printDetail()\n",
        "a = Team(\"Australia\")\n",
        "ponting = Player(\"Ponting\")\n",
        "a.addPlayer(ponting)\n",
        "lee = Player(\"Lee\")\n",
        "a.addPlayer(lee)\n",
        "a.printDetail()"
      ],
      "execution_count": null,
      "outputs": [
        {
          "output_type": "stream",
          "text": [
            "====================================\n",
            "Team: Bangladesh\n",
            "List of players:\n",
            "['Mashrafi', 'Tamim']\n",
            "====================================\n",
            "====================================\n",
            "Team: Australia\n",
            "List of players:\n",
            "['Ponting', 'Lee']\n",
            "====================================\n"
          ],
          "name": "stdout"
        }
      ]
    },
    {
      "cell_type": "markdown",
      "metadata": {
        "id": "4yLNp741deaw"
      },
      "source": [
        "#Task - 4"
      ]
    },
    {
      "cell_type": "code",
      "metadata": {
        "colab": {
          "base_uri": "https://localhost:8080/"
        },
        "id": "vVY6b-sDdgcS",
        "outputId": "f97a921c-8e4c-4c51-827f-63bd264f3533"
      },
      "source": [
        "class Color:\n",
        "  def __init__(self, color):\n",
        "    self.clr = color\n",
        "\n",
        "  def __add__(self, other):\n",
        "    if self.clr == 'red' and other.clr == 'yellow':\n",
        "      return Color('Orange')\n",
        "    elif other.clr == 'red' and self.clr == 'yellow':\n",
        "      return Color('Orange')\n",
        "    elif self.clr == 'red' and other.clr == 'blue':\n",
        "      return Color('Violet')\n",
        "    elif other.clr == 'red' and self.clr == 'blue':\n",
        "      return Color('Violet')\n",
        "    elif self.clr == 'yellow' and other.clr == 'blue':\n",
        "      return Color('Green')\n",
        "    elif other.clr == 'yellow' and self.clr == 'blue':\n",
        "      return Color('Green')\n",
        "\n",
        "\n",
        "C1 = Color(input(\"First Color: \").lower())\n",
        "C2 = Color(input(\"Second Color: \").lower())\n",
        "C3 = C1 + C2\n",
        "print(\"Color formed:\", C3.clr)"
      ],
      "execution_count": null,
      "outputs": [
        {
          "output_type": "stream",
          "text": [
            "First Color: yellow\n",
            "Second Color: red\n",
            "Color formed: Orange\n"
          ],
          "name": "stdout"
        }
      ]
    },
    {
      "cell_type": "markdown",
      "metadata": {
        "id": "psUHx8Y_ehb4"
      },
      "source": [
        "#Task - 5"
      ]
    },
    {
      "cell_type": "code",
      "metadata": {
        "colab": {
          "base_uri": "https://localhost:8080/"
        },
        "id": "pRz4RXVrejjQ",
        "outputId": "df0a8c3e-7396-48bc-93cf-dfcc4361f658"
      },
      "source": [
        "import math\n",
        "\n",
        "class Circle:\n",
        "  def __init__(self, radius):\n",
        "    self.__radius = radius\n",
        "\n",
        "  def getRadius(self):\n",
        "    return self.__radius\n",
        "\n",
        "  def setRadius(self, radius):\n",
        "    self.__radius = radius\n",
        "\n",
        "  def area(self):\n",
        "    return math.pi*(self.__radius*self.__radius)\n",
        "\n",
        "  def __add__(self, other):\n",
        "    radius = self.__radius + other.__radius\n",
        "    return Circle(radius)\n",
        "\n",
        "\n",
        "c1 = Circle(4)\n",
        "print(\"First circle radius:\" , c1.getRadius())\n",
        "print(\"First circle area:\" ,c1.area())\n",
        "c2 = Circle(5)\n",
        "print(\"Second circle radius:\" ,c2.getRadius())\n",
        "print(\"Second circle area:\" ,c2.area())\n",
        "c3 = c1 + c2\n",
        "print(\"Third circle radius:\" ,c3.getRadius())\n",
        "print(\"Third circle area:\" ,c3.area())"
      ],
      "execution_count": null,
      "outputs": [
        {
          "output_type": "stream",
          "text": [
            "First circle radius: 4\n",
            "First circle area: 50.26548245743669\n",
            "Second circle radius: 5\n",
            "Second circle area: 78.53981633974483\n",
            "Third circle radius: 9\n",
            "Third circle area: 254.46900494077323\n"
          ],
          "name": "stdout"
        }
      ]
    },
    {
      "cell_type": "markdown",
      "metadata": {
        "id": "C5ZBtyISenRE"
      },
      "source": [
        "#Task - 6"
      ]
    },
    {
      "cell_type": "code",
      "metadata": {
        "colab": {
          "base_uri": "https://localhost:8080/"
        },
        "id": "xHPjSLJeepS_",
        "outputId": "df2e70fb-0f4d-41eb-e564-8745d0daf911"
      },
      "source": [
        "class Triangle:\n",
        "  def __init__(self, base, height):\n",
        "    self.__base = base\n",
        "    self.__height = height\n",
        "\n",
        "  def getBase(self):\n",
        "    return self.__base\n",
        "\n",
        "  def getHeight(self):\n",
        "    return self.__height\n",
        "\n",
        "  def setBase(self, base):\n",
        "    self.__base = base\n",
        "\n",
        "  def setHeight(self, height):\n",
        "    self.__height = height\n",
        "\n",
        "  def area(self):\n",
        "    return (self.__height*self.__base)/2\n",
        "\n",
        "  def __sub__(self, other):\n",
        "    base = self.__base - other.__base\n",
        "    height = self.__height - other.__height\n",
        "    return Triangle(base, height)\n",
        "\n",
        "t1 = Triangle(10, 5)\n",
        "print(\"First Triangle Base:\" , t1.getBase())\n",
        "print(\"First Triangle Height:\" , t1.getHeight())\n",
        "print(\"First Triangle area:\" ,t1.area())\n",
        "t2 = Triangle(5, 3)\n",
        "print(\"Second Triangle Base:\" , t2.getBase())\n",
        "print(\"Second Triangle Height:\" , t2.getHeight())\n",
        "print(\"Second Triangle area:\" ,t2.area())\n",
        "t3 = t1 - t2\n",
        "print(\"Third Triangle Base:\" , t3.getBase())\n",
        "print(\"Third Triangle Height:\" , t3.getHeight())\n",
        "print(\"Third Triangle area:\" ,t3.area())"
      ],
      "execution_count": null,
      "outputs": [
        {
          "output_type": "stream",
          "text": [
            "First Triangle Base: 10\n",
            "First Triangle Height: 5\n",
            "First Triangle area: 25.0\n",
            "Second Triangle Base: 5\n",
            "Second Triangle Height: 3\n",
            "Second Triangle area: 7.5\n",
            "Third Triangle Base: 5\n",
            "Third Triangle Height: 2\n",
            "Third Triangle area: 5.0\n"
          ],
          "name": "stdout"
        }
      ]
    },
    {
      "cell_type": "markdown",
      "metadata": {
        "id": "CHYslDeMesji"
      },
      "source": [
        "#Task - 7"
      ]
    },
    {
      "cell_type": "code",
      "metadata": {
        "colab": {
          "base_uri": "https://localhost:8080/"
        },
        "id": "9P3-0La1euqo",
        "outputId": "46a34a0b-1847-4942-dac5-c7d91feb6207"
      },
      "source": [
        "class Dolls:\n",
        "  def __init__(self, doll, price):\n",
        "    self.doll = doll\n",
        "    self.price = price\n",
        "\n",
        "  def __gt__(self, other):\n",
        "    return self.price > other.price\n",
        "\n",
        "  def __add__(self, other):\n",
        "    doll = self.doll + ' ' + other.doll\n",
        "    price = self.price + other.price\n",
        "    return Dolls(doll, price)\n",
        "\n",
        "  def detail(self):\n",
        "    return 'Doll: ' + self.doll + '\\n' + 'Price: ' + str(self.price)\n",
        "\n",
        "obj_1 = Dolls(\"Tweety\", 2500)\n",
        "print(obj_1.detail())\n",
        "if obj_1 > obj_1:\n",
        "  print(\"Congratulations! You get the Tweety as a gift!\")\n",
        "else:\n",
        "  print(\"Thank you!\")\n",
        "print(\"=========================\")\n",
        "obj_2 = Dolls(\"Daffy Duck\", 1800)\n",
        "print(obj_2.detail())\n",
        "if obj_2 > obj_1:\n",
        "  print(\"Congratulations! You get the Tweety as a gift!\")\n",
        "else:\n",
        "  print(\"Thank you!\")\n",
        "print(\"=========================\")\n",
        "obj_3 = Dolls(\"Bugs Bunny\", 3000)\n",
        "print(obj_3.detail())\n",
        "if obj_3 > obj_1:\n",
        "  print(\"Congratulations! You get the Tweety as a gift!\")\n",
        "else:\n",
        "  print(\"Thank you!\")\n",
        "print(\"=========================\")\n",
        "obj_4 = Dolls(\"Porky Pig\", 1500)\n",
        "print(obj_4.detail())\n",
        "if obj_4 > obj_1:\n",
        "  print(\"Congratulations! You get the Tweety as a gift!\")\n",
        "else:\n",
        "  print(\"Thank you!\")\n",
        "print(\"=========================\")\n",
        "obj_5 = obj_2 + obj_3\n",
        "print(obj_5.detail())\n",
        "if obj_5 > obj_1:\n",
        "  print(\"Congratulations! You get the Tweety as a gift!\")\n",
        "else:\n",
        "  print(\"Thank you!\")"
      ],
      "execution_count": null,
      "outputs": [
        {
          "output_type": "stream",
          "text": [
            "Doll: Tweety\n",
            "Price: 2500\n",
            "Thank you!\n",
            "=========================\n",
            "Doll: Daffy Duck\n",
            "Price: 1800\n",
            "Thank you!\n",
            "=========================\n",
            "Doll: Bugs Bunny\n",
            "Price: 3000\n",
            "Congratulations! You get the Tweety as a gift!\n",
            "=========================\n",
            "Doll: Porky Pig\n",
            "Price: 1500\n",
            "Thank you!\n",
            "=========================\n",
            "Doll: Daffy Duck Bugs Bunny\n",
            "Price: 4800\n",
            "Congratulations! You get the Tweety as a gift!\n"
          ],
          "name": "stdout"
        }
      ]
    },
    {
      "cell_type": "markdown",
      "metadata": {
        "id": "bG5g0XIsezFo"
      },
      "source": [
        "#Task - 8"
      ]
    },
    {
      "cell_type": "code",
      "metadata": {
        "colab": {
          "base_uri": "https://localhost:8080/"
        },
        "id": "muytUT5Oe4Eg",
        "outputId": "9c7ec21c-0b05-4cad-a45d-7801f65a5ece"
      },
      "source": [
        "class Coordinates:\n",
        "  def __init__(self, point1, point2):\n",
        "    self.point1 = point1\n",
        "    self.point2 = point2\n",
        "\n",
        "  def __sub__(self, other):\n",
        "    point1 = self.point1 - other.point1\n",
        "    point2 = self.point2 - other.point2\n",
        "    return Coordinates(point1, point2)\n",
        "\n",
        "  def __mul__(self, other):\n",
        "    point1 = self.point1 * other.point1\n",
        "    point2 = self.point2 * other.point2\n",
        "    return Coordinates(point1, point2)\n",
        "\n",
        "\n",
        "  def detail(self):\n",
        "    return '(' + str(self.point1) + ',' + str(self.point2) + ')'\n",
        "\n",
        "  def __eq__(self, other):\n",
        "    if self.point1 == other.point1 and self.point2 == other.point2:\n",
        "      return 'The calculated coordinates are the same.'\n",
        "    else:\n",
        "      return 'The calculated coordinates are NOT the same.'\n",
        "\n",
        "p1 = Coordinates(int(input()),int(input()))\n",
        "p2 = Coordinates(int(input()),int(input()))\n",
        "p4 = p1 - p2\n",
        "print(p4.detail())\n",
        "p5 = p1 * p2\n",
        "print(p5.detail())\n",
        "point_check = (p4 == p5)\n",
        "print(point_check)"
      ],
      "execution_count": null,
      "outputs": [
        {
          "output_type": "stream",
          "text": [
            "0\n",
            "0\n",
            "0\n",
            "0\n",
            "(0,0)\n",
            "(0,0)\n",
            "The calculated coordinates are the same.\n"
          ],
          "name": "stdout"
        }
      ]
    }
  ]
}